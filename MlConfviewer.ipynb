{
 "cells": [
  {
   "cell_type": "markdown",
   "metadata": {},
   "source": [
    "<script>\n",
    "    function findAncestor (el, name) {\n",
    "        while ((el = el.parentElement) && el.nodeName.toLowerCase() !== name);\n",
    "        return el;\n",
    "    }\n",
    "    function colorAll(el, textColor) {\n",
    "        el.style.color = textColor;\n",
    "        Array.from(el.children).forEach((e) => {colorAll(e, textColor);});\n",
    "    }\n",
    "    function setBackgroundImage(src, textColor) {\n",
    "        var section = findAncestor(document.currentScript, \"section\");\n",
    "        if (section) {\n",
    "            section.setAttribute(\"data-background-image\", src);\n",
    "\t\t\tif (textColor) colorAll(section, textColor);\n",
    "        }\n",
    "    }\n",
    "</script>\n"
   ]
  },
  {
   "cell_type": "markdown",
   "metadata": {
    "slideshow": {
     "slide_type": "slide"
    }
   },
   "source": [
    "# Starwars exploration with LDA"
   ]
  },
  {
   "cell_type": "code",
   "execution_count": 19,
   "metadata": {
    "hideCode": false,
    "hidePrompt": false,
    "slideshow": {
     "slide_type": "skip"
    }
   },
   "outputs": [],
   "source": [
    "%matplotlib inline\n",
    "import pandas as pd\n",
    "import nltk\n",
    "from nltk.corpus import stopwords\n",
    "from nltk.tokenize import word_tokenize\n",
    "stopwords = stopwords.words('english')\n",
    "from spacy.lang.en import English\n",
    "parser = English()\n",
    "import pyLDAvis.gensim\n",
    "from nltk.corpus import wordnet as wn\n",
    "from gensim import corpora\n",
    "import pickle\n",
    "import gensim"
   ]
  },
  {
   "cell_type": "code",
   "execution_count": 4,
   "metadata": {
    "hideCode": false,
    "hidePrompt": false,
    "slideshow": {
     "slide_type": "skip"
    }
   },
   "outputs": [
    {
     "data": {
      "text/plain": [
       "(2523, 2)"
      ]
     },
     "execution_count": 4,
     "metadata": {},
     "output_type": "execute_result"
    }
   ],
   "source": [
    "episodes= [\"SW_EpisodeIV.txt\",\"SW_EpisodeV.txt\", \"SW_EpisodeVI.txt\"]\n",
    "SW= []\n",
    "star_all = pd.DataFrame()\n",
    "for episode in episodes:\n",
    "    star_1 = pd.read_csv(episode, sep='\" \"', engine='python')\n",
    "    star_1 = star_1.loc[:,star_1.dtypes==object].apply(lambda star_1:star_1.str.replace('\"', \"\"))\n",
    "    star_1 = star_1.reset_index(drop=True)\n",
    "    star_1.columns = ['character', 'dialogue']\n",
    "    SW.append(star_1)\n",
    "star_all = pd.concat(SW)\n",
    "star_all = star_all.reset_index(drop=True)\n",
    "star_all.shape"
   ]
  },
  {
   "cell_type": "code",
   "execution_count": 5,
   "metadata": {
    "hideCode": false,
    "hidePrompt": false,
    "slideshow": {
     "slide_type": "skip"
    }
   },
   "outputs": [],
   "source": [
    "classes=star_all.character.value_counts()\n",
    "classes_big=classes[classes>=40]\n",
    "sufficient=star_all[star_all.character.isin(classes_big.index)][[\"character\",'dialogue']]"
   ]
  },
  {
   "cell_type": "code",
   "execution_count": 6,
   "metadata": {
    "hideCode": false,
    "hidePrompt": false,
    "slideshow": {
     "slide_type": "slide"
    }
   },
   "outputs": [
    {
     "data": {
      "text/plain": [
       "(1930, 2)"
      ]
     },
     "execution_count": 6,
     "metadata": {},
     "output_type": "execute_result"
    }
   ],
   "source": [
    "sufficient=sufficient.reset_index(drop=True)\n",
    "sufficient.shape"
   ]
  },
  {
   "cell_type": "code",
   "execution_count": 7,
   "metadata": {
    "hideCode": false,
    "hidePrompt": false,
    "slideshow": {
     "slide_type": "skip"
    }
   },
   "outputs": [],
   "source": [
    "sufficient[\"tokens\"]=sufficient['dialogue'].apply(word_tokenize) "
   ]
  },
  {
   "cell_type": "code",
   "execution_count": 8,
   "metadata": {
    "hideCode": false,
    "hidePrompt": false,
    "slideshow": {
     "slide_type": "skip"
    }
   },
   "outputs": [],
   "source": [
    "def no_punct(tokens):\n",
    "    words = [word for word in tokens if word.isalpha()]\n",
    "    return words\n",
    "def to_lower(tokens):\n",
    "    words = [w.lower() for w in tokens]\n",
    "    return words"
   ]
  },
  {
   "cell_type": "code",
   "execution_count": 9,
   "metadata": {
    "hideCode": false,
    "hidePrompt": false,
    "slideshow": {
     "slide_type": "skip"
    }
   },
   "outputs": [],
   "source": [
    "sufficient[\"tokens\"]=sufficient['tokens'].apply(to_lower)\n",
    "sufficient[\"tokens\"]=sufficient['tokens'].apply(no_punct)"
   ]
  },
  {
   "cell_type": "markdown",
   "metadata": {},
   "source": [
    "# LDA"
   ]
  },
  {
   "cell_type": "code",
   "execution_count": 10,
   "metadata": {},
   "outputs": [
    {
     "data": {
      "text/html": [
       "<div>\n",
       "<style scoped>\n",
       "    .dataframe tbody tr th:only-of-type {\n",
       "        vertical-align: middle;\n",
       "    }\n",
       "\n",
       "    .dataframe tbody tr th {\n",
       "        vertical-align: top;\n",
       "    }\n",
       "\n",
       "    .dataframe thead th {\n",
       "        text-align: right;\n",
       "    }\n",
       "</style>\n",
       "<table border=\"1\" class=\"dataframe\">\n",
       "  <thead>\n",
       "    <tr style=\"text-align: right;\">\n",
       "      <th></th>\n",
       "      <th>character</th>\n",
       "      <th>dialogue</th>\n",
       "      <th>tokens</th>\n",
       "    </tr>\n",
       "  </thead>\n",
       "  <tbody>\n",
       "    <tr>\n",
       "      <th>0</th>\n",
       "      <td>THREEPIO</td>\n",
       "      <td>Did you hear that?  They've shut down the main...</td>\n",
       "      <td>[did, you, hear, that, they, shut, down, the, ...</td>\n",
       "    </tr>\n",
       "    <tr>\n",
       "      <th>1</th>\n",
       "      <td>THREEPIO</td>\n",
       "      <td>We're doomed!</td>\n",
       "      <td>[we, doomed]</td>\n",
       "    </tr>\n",
       "    <tr>\n",
       "      <th>2</th>\n",
       "      <td>THREEPIO</td>\n",
       "      <td>There'll be no escape for the Princess this time.</td>\n",
       "      <td>[there, be, no, escape, for, the, princess, th...</td>\n",
       "    </tr>\n",
       "    <tr>\n",
       "      <th>3</th>\n",
       "      <td>THREEPIO</td>\n",
       "      <td>What's that?</td>\n",
       "      <td>[what, that]</td>\n",
       "    </tr>\n",
       "    <tr>\n",
       "      <th>4</th>\n",
       "      <td>THREEPIO</td>\n",
       "      <td>I should have known better than to trust the l...</td>\n",
       "      <td>[i, should, have, known, better, than, to, tru...</td>\n",
       "    </tr>\n",
       "  </tbody>\n",
       "</table>\n",
       "</div>"
      ],
      "text/plain": [
       "  character                                           dialogue  \\\n",
       "0  THREEPIO  Did you hear that?  They've shut down the main...   \n",
       "1  THREEPIO                                      We're doomed!   \n",
       "2  THREEPIO  There'll be no escape for the Princess this time.   \n",
       "3  THREEPIO                                       What's that?   \n",
       "4  THREEPIO  I should have known better than to trust the l...   \n",
       "\n",
       "                                              tokens  \n",
       "0  [did, you, hear, that, they, shut, down, the, ...  \n",
       "1                                       [we, doomed]  \n",
       "2  [there, be, no, escape, for, the, princess, th...  \n",
       "3                                       [what, that]  \n",
       "4  [i, should, have, known, better, than, to, tru...  "
      ]
     },
     "execution_count": 10,
     "metadata": {},
     "output_type": "execute_result"
    }
   ],
   "source": [
    "sufficient.head()"
   ]
  },
  {
   "cell_type": "code",
   "execution_count": 11,
   "metadata": {},
   "outputs": [],
   "source": [
    "suff_grouped=sufficient.groupby('character')['dialogue'].apply(list)"
   ]
  },
  {
   "cell_type": "code",
   "execution_count": 12,
   "metadata": {},
   "outputs": [
    {
     "data": {
      "text/plain": [
       "character\n",
       "BEN         [[hello, there, come, here, my, little, friend...\n",
       "EMPEROR     [[there, is, a, great, disturbance, in, the, f...\n",
       "HAN         [[han, solo, i, captain, of, the, millennium, ...\n",
       "LANDO       [[why, you, slimy, swindler, you, got, a, lot,...\n",
       "LEIA        [[lord, vader, i, should, have, known, only, y...\n",
       "LUKE        [[hurry, up, come, with, me, what, are, you, w...\n",
       "THREEPIO    [[did, you, hear, that, they, shut, down, the,...\n",
       "VADER       [[where, are, those, transmissions, you, inter...\n",
       "YODA        [[hmmm, much, anger, in, him, like, his, fathe...\n",
       "Name: tokens, dtype: object"
      ]
     },
     "execution_count": 12,
     "metadata": {},
     "output_type": "execute_result"
    }
   ],
   "source": [
    "suff_grouped2=sufficient.groupby('character')['tokens'].apply(list)\n",
    "suff_grouped2"
   ]
  },
  {
   "cell_type": "code",
   "execution_count": 13,
   "metadata": {},
   "outputs": [],
   "source": [
    "from itertools import chain"
   ]
  },
  {
   "cell_type": "code",
   "execution_count": 14,
   "metadata": {},
   "outputs": [],
   "source": [
    "superlist=[]\n",
    "for i in range(len(suff_grouped2)):\n",
    "    line = list(chain.from_iterable(suff_grouped2[i]))\n",
    "    superlist.append(line)"
   ]
  },
  {
   "cell_type": "code",
   "execution_count": 15,
   "metadata": {},
   "outputs": [],
   "source": [
    "parser = English()\n",
    "def tokenize(text):\n",
    "    lda_tokens = []\n",
    "    tokens = parser(text)\n",
    "    for token in tokens:\n",
    "        if token.orth_.isspace():\n",
    "            continue\n",
    "        elif token.like_url:\n",
    "            lda_tokens.append('URL')\n",
    "        elif token.orth_.startswith('@'):\n",
    "            lda_tokens.append('SCREEN_NAME')\n",
    "        else:\n",
    "            lda_tokens.append(token.lower_)\n",
    "    return lda_tokens"
   ]
  },
  {
   "cell_type": "code",
   "execution_count": 16,
   "metadata": {},
   "outputs": [],
   "source": [
    "def get_lemma(word):\n",
    "    lemma = wn.morphy(word)\n",
    "    if lemma is None:\n",
    "        return word\n",
    "    else:\n",
    "        return lemma\n",
    "    \n",
    "from nltk.stem.wordnet import WordNetLemmatizer\n",
    "def get_lemma2(word):\n",
    "    return WordNetLemmatizer().lemmatize(word)"
   ]
  },
  {
   "cell_type": "code",
   "execution_count": 20,
   "metadata": {},
   "outputs": [
    {
     "name": "stdout",
     "output_type": "stream",
     "text": [
      "[nltk_data] Downloading package stopwords to\n",
      "[nltk_data]     /Users/nataliespeiser/nltk_data...\n",
      "[nltk_data]   Package stopwords is already up-to-date!\n"
     ]
    }
   ],
   "source": [
    "nltk.download('stopwords')\n",
    "en_stop = set(nltk.corpus.stopwords.words('english'))"
   ]
  },
  {
   "cell_type": "code",
   "execution_count": 21,
   "metadata": {},
   "outputs": [],
   "source": [
    "def prepare_text_for_lda(text):\n",
    "    tokens = tokenize(text)\n",
    "    tokens = [token for token in tokens if len(token) > 4]\n",
    "    tokens = [token for token in tokens if token not in en_stop]\n",
    "    #tokens = [token for token in tokens if token is not \" \"]\n",
    "    tokens = [get_lemma(token) for token in tokens]\n",
    "    return tokens"
   ]
  },
  {
   "cell_type": "code",
   "execution_count": 22,
   "metadata": {},
   "outputs": [],
   "source": [
    "flattened_list=[]\n",
    "for x in superlist: #\n",
    "    for y in x:\n",
    "        flattened_list.append(y)"
   ]
  },
  {
   "cell_type": "code",
   "execution_count": 23,
   "metadata": {},
   "outputs": [],
   "source": [
    "suff_grouped_list=[]\n",
    "for i in range(len(suff_grouped)):\n",
    "    for suffgr in suff_grouped[i]:\n",
    "        suff_grouped_list.append(suffgr)"
   ]
  },
  {
   "cell_type": "code",
   "execution_count": 24,
   "metadata": {},
   "outputs": [],
   "source": [
    "superlist_new=[]\n",
    "for characterlist in superlist:\n",
    "    for token in characterlist:\n",
    "        if token in en_stop:\n",
    "            characterlist.remove(token)\n",
    "    superlist_new.append(characterlist)"
   ]
  },
  {
   "cell_type": "code",
   "execution_count": 25,
   "metadata": {},
   "outputs": [],
   "source": [
    "superlist_new=[]\n",
    "characterlist_new=[]\n",
    "for characterlist in superlist:\n",
    "    characterlist_new=[token for token in characterlist if token not in en_stop]\n",
    "    superlist_new.append(characterlist_new)"
   ]
  },
  {
   "cell_type": "code",
   "execution_count": 26,
   "metadata": {},
   "outputs": [],
   "source": [
    "dictionary = corpora.Dictionary(superlist_new)\n",
    "corpus = [dictionary.doc2bow(text) for text in superlist_new]\n",
    "pickle.dump(corpus, open('corpus.pkl', 'wb'))\n",
    "dictionary.save('dictionary.gensim')"
   ]
  },
  {
   "cell_type": "code",
   "execution_count": 27,
   "metadata": {},
   "outputs": [],
   "source": [
    "import logging\n",
    "logger = logging.getLogger()\n",
    "logger.setLevel(logging.CRITICAL)"
   ]
  },
  {
   "cell_type": "code",
   "execution_count": 28,
   "metadata": {},
   "outputs": [],
   "source": [
    "import warnings\n",
    "warnings.filterwarnings(\"ignore\", category=DeprecationWarning) \n",
    "warnings.filterwarnings(\"ignore\", category=FutureWarning) "
   ]
  },
  {
   "cell_type": "code",
   "execution_count": 29,
   "metadata": {
    "scrolled": true
   },
   "outputs": [
    {
     "name": "stdout",
     "output_type": "stream",
     "text": [
      "(0, '0.001*\"chewie\" + 0.001*\"get\" + 0.001*\"us\" + 0.001*\"well\"')\n",
      "(1, '0.016*\"luke\" + 0.015*\"know\" + 0.013*\"get\" + 0.009*\"help\"')\n",
      "(2, '0.018*\"get\" + 0.016*\"right\" + 0.016*\"going\" + 0.013*\"come\"')\n",
      "(3, '0.000*\"get\" + 0.000*\"right\" + 0.000*\"like\" + 0.000*\"come\"')\n",
      "(4, '0.024*\"force\" + 0.020*\"yes\" + 0.019*\"must\" + 0.015*\"jedi\"')\n",
      "(5, '0.000*\"oh\" + 0.000*\"get\" + 0.000*\"going\" + 0.000*\"take\"')\n",
      "(6, '0.038*\"oh\" + 0.029*\"sir\" + 0.028*\"artoo\" + 0.014*\"master\"')\n",
      "(7, '0.021*\"luke\" + 0.014*\"father\" + 0.014*\"force\" + 0.011*\"jedi\"')\n",
      "(8, '0.010*\"ship\" + 0.010*\"skywalker\" + 0.009*\"master\" + 0.009*\"yes\"')\n"
     ]
    }
   ],
   "source": [
    "NUM_TOPICS = 9\n",
    "ldamodel = gensim.models.ldamodel.LdaModel(corpus, num_topics = NUM_TOPICS, id2word=dictionary, passes=15,iterations=200)\n",
    "ldamodel.save('model5.gensim')\n",
    "topics = ldamodel.print_topics(num_words=4)\n",
    "for topic in topics:\n",
    "    print(topic)"
   ]
  },
  {
   "cell_type": "code",
   "execution_count": 30,
   "metadata": {},
   "outputs": [
    {
     "name": "stdout",
     "output_type": "stream",
     "text": [
      "[(313, 1), (664, 1)]\n",
      "[(0, 0.03703704), (1, 0.037044436), (2, 0.7036361), (3, 0.03703704), (4, 0.03703704), (5, 0.03703704), (6, 0.03708007), (7, 0.037042286), (8, 0.03704896)]\n"
     ]
    }
   ],
   "source": [
    "new_doc = 'let us go kid we got to be in the ship an save the princess and keep an eye on chewie'\n",
    "new_doc = prepare_text_for_lda(new_doc)\n",
    "new_doc_bow = dictionary.doc2bow(new_doc)\n",
    "print(new_doc_bow)\n",
    "print(ldamodel.get_document_topics(new_doc_bow))"
   ]
  },
  {
   "cell_type": "code",
   "execution_count": 31,
   "metadata": {},
   "outputs": [
    {
     "data": {
      "text/html": [
       "\n",
       "<link rel=\"stylesheet\" type=\"text/css\" href=\"https://cdn.rawgit.com/bmabey/pyLDAvis/files/ldavis.v1.0.0.css\">\n",
       "\n",
       "\n",
       "<div id=\"ldavis_el85321123267148564491262607\"></div>\n",
       "<script type=\"text/javascript\">\n",
       "\n",
       "var ldavis_el85321123267148564491262607_data = {\"mdsDat\": {\"x\": [0.05221538639300699, -0.09397289877383727, -0.1357759505550383, 0.053241760342756635, 0.12953792381746698, 0.0533344138918306, -0.14470143881766617, 0.027664486730852214, 0.05845631697062817], \"y\": [0.06746298925083882, -0.029599365584424085, -0.054943624130380266, 0.06844223091300955, -0.001729361888835698, 0.06854262237973048, 0.08262520512164555, -0.09269473916057092, -0.10810595690101348], \"topics\": [1, 2, 3, 4, 5, 6, 7, 8, 9], \"cluster\": [1, 1, 1, 1, 1, 1, 1, 1, 1], \"Freq\": [0.01080955658107996, 8.598508834838867, 46.997825622558594, 0.01080955658107996, 3.865025281906128, 0.01080955658107996, 18.577449798583984, 8.8665132522583, 13.062254905700684]}, \"tinfo\": {\"Category\": [\"Default\", \"Default\", \"Default\", \"Default\", \"Default\", \"Default\", \"Default\", \"Default\", \"Default\", \"Default\", \"Default\", \"Default\", \"Default\", \"Default\", \"Default\", \"Default\", \"Default\", \"Default\", \"Default\", \"Default\", \"Default\", \"Default\", \"Default\", \"Default\", \"Default\", \"Default\", \"Default\", \"Default\", \"Default\", \"Default\", \"Topic1\", \"Topic1\", \"Topic1\", \"Topic1\", \"Topic1\", \"Topic1\", \"Topic1\", \"Topic1\", \"Topic1\", \"Topic1\", \"Topic1\", \"Topic1\", \"Topic1\", \"Topic1\", \"Topic1\", \"Topic1\", \"Topic1\", \"Topic1\", \"Topic1\", \"Topic1\", \"Topic1\", \"Topic1\", \"Topic1\", \"Topic1\", \"Topic1\", \"Topic1\", \"Topic1\", \"Topic1\", \"Topic1\", \"Topic1\", \"Topic1\", \"Topic1\", \"Topic1\", \"Topic1\", \"Topic1\", \"Topic1\", \"Topic1\", \"Topic1\", \"Topic1\", \"Topic1\", \"Topic1\", \"Topic1\", \"Topic1\", \"Topic1\", \"Topic1\", \"Topic1\", \"Topic1\", \"Topic1\", \"Topic1\", \"Topic1\", \"Topic1\", \"Topic1\", \"Topic1\", \"Topic1\", \"Topic1\", \"Topic1\", \"Topic1\", \"Topic1\", \"Topic1\", \"Topic1\", \"Topic1\", \"Topic1\", \"Topic1\", \"Topic2\", \"Topic2\", \"Topic2\", \"Topic2\", \"Topic2\", \"Topic2\", \"Topic2\", \"Topic2\", \"Topic2\", \"Topic2\", \"Topic2\", \"Topic2\", \"Topic2\", \"Topic2\", \"Topic2\", \"Topic2\", \"Topic2\", \"Topic2\", \"Topic2\", \"Topic2\", \"Topic2\", \"Topic2\", \"Topic2\", \"Topic2\", \"Topic2\", \"Topic2\", \"Topic2\", \"Topic2\", \"Topic2\", \"Topic2\", \"Topic2\", \"Topic2\", \"Topic2\", \"Topic2\", \"Topic2\", \"Topic2\", \"Topic2\", \"Topic2\", \"Topic2\", \"Topic2\", \"Topic2\", \"Topic2\", \"Topic2\", \"Topic2\", \"Topic2\", \"Topic2\", \"Topic2\", \"Topic2\", \"Topic2\", \"Topic2\", \"Topic2\", \"Topic2\", \"Topic2\", \"Topic2\", \"Topic2\", \"Topic2\", \"Topic2\", \"Topic2\", \"Topic2\", \"Topic2\", \"Topic2\", \"Topic2\", \"Topic2\", \"Topic2\", \"Topic2\", \"Topic2\", \"Topic2\", \"Topic2\", \"Topic2\", \"Topic2\", \"Topic2\", \"Topic2\", \"Topic2\", \"Topic2\", \"Topic2\", \"Topic2\", \"Topic2\", \"Topic2\", \"Topic2\", \"Topic2\", \"Topic3\", \"Topic3\", \"Topic3\", \"Topic3\", \"Topic3\", \"Topic3\", \"Topic3\", \"Topic3\", \"Topic3\", \"Topic3\", \"Topic3\", \"Topic3\", \"Topic3\", \"Topic3\", \"Topic3\", \"Topic3\", \"Topic3\", \"Topic3\", \"Topic3\", \"Topic3\", \"Topic3\", \"Topic3\", \"Topic3\", \"Topic3\", \"Topic3\", \"Topic3\", \"Topic3\", \"Topic3\", \"Topic3\", \"Topic3\", \"Topic3\", \"Topic3\", \"Topic3\", \"Topic3\", \"Topic3\", \"Topic3\", \"Topic3\", \"Topic3\", \"Topic3\", \"Topic3\", \"Topic3\", \"Topic3\", \"Topic3\", \"Topic3\", \"Topic3\", \"Topic3\", \"Topic3\", \"Topic3\", \"Topic3\", \"Topic3\", \"Topic3\", \"Topic3\", \"Topic3\", \"Topic3\", \"Topic3\", \"Topic3\", \"Topic3\", \"Topic3\", \"Topic3\", \"Topic3\", \"Topic3\", \"Topic3\", \"Topic3\", \"Topic4\", \"Topic4\", \"Topic4\", \"Topic4\", \"Topic4\", \"Topic4\", \"Topic4\", \"Topic4\", \"Topic4\", \"Topic4\", \"Topic4\", \"Topic4\", \"Topic4\", \"Topic4\", \"Topic4\", \"Topic4\", \"Topic4\", \"Topic4\", \"Topic4\", \"Topic4\", \"Topic4\", \"Topic4\", \"Topic4\", \"Topic4\", \"Topic4\", \"Topic4\", \"Topic4\", \"Topic4\", \"Topic4\", \"Topic4\", \"Topic4\", \"Topic4\", \"Topic4\", \"Topic4\", \"Topic4\", \"Topic4\", \"Topic4\", \"Topic4\", \"Topic4\", \"Topic4\", \"Topic4\", \"Topic4\", \"Topic4\", \"Topic4\", \"Topic4\", \"Topic4\", \"Topic4\", \"Topic4\", \"Topic4\", \"Topic4\", \"Topic4\", \"Topic4\", \"Topic4\", \"Topic4\", \"Topic4\", \"Topic4\", \"Topic4\", \"Topic4\", \"Topic4\", \"Topic4\", \"Topic4\", \"Topic4\", \"Topic4\", \"Topic5\", \"Topic5\", \"Topic5\", \"Topic5\", \"Topic5\", \"Topic5\", \"Topic5\", \"Topic5\", \"Topic5\", \"Topic5\", \"Topic5\", \"Topic5\", \"Topic5\", \"Topic5\", \"Topic5\", \"Topic5\", \"Topic5\", \"Topic5\", \"Topic5\", \"Topic5\", \"Topic5\", \"Topic5\", \"Topic5\", \"Topic5\", \"Topic5\", \"Topic5\", \"Topic5\", \"Topic5\", \"Topic5\", \"Topic5\", \"Topic5\", \"Topic5\", \"Topic5\", \"Topic5\", \"Topic5\", \"Topic5\", \"Topic5\", \"Topic5\", \"Topic5\", \"Topic5\", \"Topic5\", \"Topic5\", \"Topic5\", \"Topic5\", \"Topic5\", \"Topic5\", \"Topic5\", \"Topic5\", \"Topic5\", \"Topic5\", \"Topic5\", \"Topic5\", \"Topic5\", \"Topic5\", \"Topic5\", \"Topic5\", \"Topic5\", \"Topic5\", \"Topic5\", \"Topic5\", \"Topic5\", \"Topic5\", \"Topic5\", \"Topic6\", \"Topic6\", \"Topic6\", \"Topic6\", \"Topic6\", \"Topic6\", \"Topic6\", \"Topic6\", \"Topic6\", \"Topic6\", \"Topic6\", \"Topic6\", \"Topic6\", \"Topic6\", \"Topic6\", \"Topic6\", \"Topic6\", \"Topic6\", \"Topic6\", \"Topic6\", \"Topic6\", \"Topic6\", \"Topic6\", \"Topic6\", \"Topic6\", \"Topic6\", \"Topic6\", \"Topic6\", \"Topic6\", \"Topic6\", \"Topic6\", \"Topic6\", \"Topic6\", \"Topic6\", \"Topic6\", \"Topic6\", \"Topic6\", \"Topic6\", \"Topic6\", \"Topic6\", \"Topic6\", \"Topic6\", \"Topic6\", \"Topic6\", \"Topic6\", \"Topic6\", \"Topic6\", \"Topic6\", \"Topic6\", \"Topic6\", \"Topic6\", \"Topic6\", \"Topic6\", \"Topic6\", \"Topic6\", \"Topic6\", \"Topic6\", \"Topic6\", \"Topic6\", \"Topic6\", \"Topic6\", \"Topic6\", \"Topic6\", \"Topic6\", \"Topic6\", \"Topic6\", \"Topic6\", \"Topic7\", \"Topic7\", \"Topic7\", \"Topic7\", \"Topic7\", \"Topic7\", \"Topic7\", \"Topic7\", \"Topic7\", \"Topic7\", \"Topic7\", \"Topic7\", \"Topic7\", \"Topic7\", \"Topic7\", \"Topic7\", \"Topic7\", \"Topic7\", \"Topic7\", \"Topic7\", \"Topic7\", \"Topic7\", \"Topic7\", \"Topic7\", \"Topic7\", \"Topic7\", \"Topic7\", \"Topic7\", \"Topic7\", \"Topic7\", \"Topic7\", \"Topic7\", \"Topic7\", \"Topic7\", \"Topic7\", \"Topic7\", \"Topic7\", \"Topic7\", \"Topic7\", \"Topic7\", \"Topic7\", \"Topic7\", \"Topic7\", \"Topic7\", \"Topic7\", \"Topic7\", \"Topic7\", \"Topic7\", \"Topic7\", \"Topic7\", \"Topic7\", \"Topic7\", \"Topic7\", \"Topic7\", \"Topic7\", \"Topic7\", \"Topic7\", \"Topic7\", \"Topic7\", \"Topic7\", \"Topic7\", \"Topic7\", \"Topic7\", \"Topic7\", \"Topic7\", \"Topic7\", \"Topic7\", \"Topic7\", \"Topic7\", \"Topic8\", \"Topic8\", \"Topic8\", \"Topic8\", \"Topic8\", \"Topic8\", \"Topic8\", \"Topic8\", \"Topic8\", \"Topic8\", \"Topic8\", \"Topic8\", \"Topic8\", \"Topic8\", \"Topic8\", \"Topic8\", \"Topic8\", \"Topic8\", \"Topic8\", \"Topic8\", \"Topic8\", \"Topic8\", \"Topic8\", \"Topic8\", \"Topic8\", \"Topic8\", \"Topic8\", \"Topic8\", \"Topic8\", \"Topic8\", \"Topic8\", \"Topic8\", \"Topic8\", \"Topic8\", \"Topic8\", \"Topic8\", \"Topic8\", \"Topic8\", \"Topic8\", \"Topic8\", \"Topic8\", \"Topic8\", \"Topic8\", \"Topic8\", \"Topic8\", \"Topic8\", \"Topic8\", \"Topic8\", \"Topic8\", \"Topic8\", \"Topic8\", \"Topic8\", \"Topic8\", \"Topic8\", \"Topic8\", \"Topic8\", \"Topic8\", \"Topic8\", \"Topic8\", \"Topic8\", \"Topic8\", \"Topic8\", \"Topic8\", \"Topic8\", \"Topic8\", \"Topic8\", \"Topic8\", \"Topic8\", \"Topic8\", \"Topic8\", \"Topic8\", \"Topic8\", \"Topic8\", \"Topic8\", \"Topic8\", \"Topic8\", \"Topic9\", \"Topic9\", \"Topic9\", \"Topic9\", \"Topic9\", \"Topic9\", \"Topic9\", \"Topic9\", \"Topic9\", \"Topic9\", \"Topic9\", \"Topic9\", \"Topic9\", \"Topic9\", \"Topic9\", \"Topic9\", \"Topic9\", \"Topic9\", \"Topic9\", \"Topic9\", \"Topic9\", \"Topic9\", \"Topic9\", \"Topic9\", \"Topic9\", \"Topic9\", \"Topic9\", \"Topic9\", \"Topic9\", \"Topic9\", \"Topic9\", \"Topic9\", \"Topic9\", \"Topic9\", \"Topic9\", \"Topic9\", \"Topic9\", \"Topic9\", \"Topic9\", \"Topic9\", \"Topic9\", \"Topic9\", \"Topic9\", \"Topic9\", \"Topic9\", \"Topic9\", \"Topic9\", \"Topic9\", \"Topic9\", \"Topic9\", \"Topic9\", \"Topic9\", \"Topic9\", \"Topic9\", \"Topic9\", \"Topic9\", \"Topic9\", \"Topic9\", \"Topic9\", \"Topic9\", \"Topic9\", \"Topic9\", \"Topic9\", \"Topic9\", \"Topic9\", \"Topic9\", \"Topic9\", \"Topic9\", \"Topic9\"], \"Freq\": [52.0, 98.0, 73.0, 37.0, 84.0, 38.0, 61.0, 42.0, 63.0, 26.0, 99.0, 44.0, 43.0, 95.0, 28.0, 21.0, 87.0, 28.0, 27.0, 19.0, 20.0, 24.0, 17.0, 41.0, 24.0, 22.0, 80.0, 27.0, 16.0, 51.0, 0.00046189475688152015, 0.00046189475688152015, 0.00046189475688152015, 0.00046189475688152015, 0.00046189475688152015, 0.00046189475688152015, 0.00046189475688152015, 0.00046189475688152015, 0.00046189475688152015, 0.00046189475688152015, 0.00046189475688152015, 0.00046189475688152015, 0.00046189475688152015, 0.00046189475688152015, 0.00046189475688152015, 0.00046189475688152015, 0.00046189475688152015, 0.00046189475688152015, 0.00046189475688152015, 0.00046189475688152015, 0.00046189475688152015, 0.00046189475688152015, 0.00046189475688152015, 0.00046189475688152015, 0.00046189475688152015, 0.00046189475688152015, 0.00046189475688152015, 0.00046189475688152015, 0.00046189475688152015, 0.00046189475688152015, 0.00046189475688152015, 0.0005346981924958527, 0.000528331205714494, 0.0005074717337265611, 0.0005046941223554313, 0.0004988432629033923, 0.0004988125874660909, 0.0004979776567779481, 0.0004922600346617401, 0.0004949239082634449, 0.0004913039156235754, 0.00048821279779076576, 0.0004901298088952899, 0.0004863464564550668, 0.0004898195038549602, 0.0004885626840405166, 0.0004905736423097551, 0.00048483963473699987, 0.00048680813051760197, 0.0004890842828899622, 0.0004842236521653831, 0.00048579645226709545, 0.0004865364171564579, 0.00048009774764068425, 0.0004791081009898335, 0.0004834799619857222, 0.000478158617625013, 0.000475173641461879, 0.0004820195899810642, 0.0004813573323190212, 0.0004732159723062068, 0.0004782477917615324, 0.00047769935918040574, 1.5971959829330444, 1.5969618558883667, 1.5967538356781006, 1.596641182899475, 1.5952692031860352, 1.5950900316238403, 1.5947307348251343, 1.5944840908050537, 0.8416689038276672, 0.8415820002555847, 0.8415060043334961, 0.8414510488510132, 0.8412391543388367, 0.8412430286407471, 0.8411816358566284, 0.8411761522293091, 0.8410855531692505, 0.8410761952400208, 0.841017484664917, 0.8408963084220886, 0.8408748507499695, 0.8408538699150085, 0.8408588171005249, 0.8407923579216003, 0.8407658338546753, 0.8407711982727051, 0.840729832649231, 0.8406730890274048, 0.840631365776062, 0.8406243324279785, 2.3516881465911865, 2.3571856021881104, 1.596139669418335, 1.5932090282440186, 1.6018304824829102, 1.5985881090164185, 1.599830150604248, 1.5987492799758911, 1.5976797342300415, 1.596393346786499, 6.2387189865112305, 5.386965751647949, 2.3505241870880127, 2.364609718322754, 4.075294494628906, 12.328022003173828, 4.645124912261963, 1.6372689008712769, 2.3563904762268066, 11.684931755065918, 7.035704612731934, 2.4269466400146484, 4.940047264099121, 10.248953819274902, 3.115720510482788, 3.1204679012298584, 6.25659704208374, 3.1172566413879395, 6.985372066497803, 3.179436683654785, 3.9671311378479004, 5.497775077819824, 6.242366790771484, 4.733628273010254, 3.1109683513641357, 4.747711181640625, 4.773257255554199, 4.762911796569824, 3.980029582977295, 3.884111166000366, 3.1482598781585693, 3.2557218074798584, 3.9921188354492188, 3.123462200164795, 3.1326470375061035, 3.3706023693084717, 3.1855196952819824, 3.1668200492858887, 3.1617674827575684, 3.1476593017578125, 21.012889862060547, 19.0977725982666, 9.607796669006348, 22.915298461914062, 7.706661224365234, 6.740845680236816, 5.808816432952881, 5.789862155914307, 5.789180755615234, 17.19588279724121, 4.858329772949219, 4.858001232147217, 4.857267379760742, 4.856729030609131, 4.857004642486572, 4.857417583465576, 4.857334136962891, 4.857069492340088, 20.03301429748535, 11.509393692016602, 55.031341552734375, 3.9078259468078613, 3.907247543334961, 3.9074771404266357, 3.907467842102051, 3.907254934310913, 3.9069926738739014, 3.9070498943328857, 17.211746215820312, 24.813045501708984, 55.11460494995117, 13.553619384765625, 67.79971313476562, 9.609454154968262, 7.874363899230957, 19.08512306213379, 76.33094787597656, 32.265716552734375, 67.44085693359375, 11.49808406829834, 18.992544174194336, 13.346498489379883, 40.67110061645508, 53.669525146484375, 56.58570098876953, 37.51670837402344, 33.05570983886719, 29.57223129272461, 52.82239532470703, 16.226863861083984, 36.325809478759766, 38.08891296386719, 28.996870040893555, 34.12314224243164, 29.108835220336914, 27.557519912719727, 26.54029655456543, 31.022485733032227, 22.092947006225586, 19.11756706237793, 24.48874282836914, 25.268150329589844, 22.94029998779297, 0.00046326540177688, 0.00046326540177688, 0.00046326540177688, 0.00046326540177688, 0.00046326540177688, 0.00046326540177688, 0.00046326540177688, 0.00046326540177688, 0.00046326540177688, 0.00046326540177688, 0.00046326540177688, 0.00046326540177688, 0.00046326540177688, 0.00046326540177688, 0.00046326540177688, 0.00046326540177688, 0.00046326540177688, 0.00046326540177688, 0.00046326540177688, 0.00046326540177688, 0.00046326540177688, 0.00046326540177688, 0.00046326540177688, 0.00046326540177688, 0.00046326540177688, 0.00046326540177688, 0.00046326540177688, 0.00046326540177688, 0.00046326540177688, 0.00046326540177688, 0.00046326540177688, 0.00046326540177688, 0.00046326540177688, 0.00047363396151922643, 0.00047203348367474973, 0.0004703849845100194, 0.0004702686856035143, 0.00046981198829598725, 0.0004696352989412844, 0.0004696038959082216, 0.00046953189303167164, 0.0004686230095103383, 0.00046842050505802035, 0.00046836741967126727, 0.00046819602721370757, 0.00046819166163913906, 0.00046785027370788157, 0.0004676527751144022, 0.0004676266689784825, 0.0004676024545915425, 0.00046757576637901366, 0.00046712762559764087, 0.0004667614703066647, 0.0004667104803957045, 0.000466583005618304, 0.0004665672895498574, 0.00046641333028674126, 0.0004663915897253901, 0.00046633614692837, 0.000466328056063503, 0.0004662953142542392, 0.00046627441770397127, 0.00046622645459137857, 1.8681042194366455, 1.267656683921814, 1.2674800157546997, 1.2674670219421387, 1.2673574686050415, 1.2673507928848267, 1.2672646045684814, 1.2669025659561157, 1.2667152881622314, 1.2666558027267456, 1.8673698902130127, 0.6673592925071716, 0.6673473119735718, 0.6672388315200806, 0.6672192811965942, 0.6672081351280212, 0.6672075986862183, 0.6671943664550781, 0.6671907305717468, 0.6671795845031738, 0.66716468334198, 0.6671565175056458, 0.6671488285064697, 0.6671411395072937, 0.6671381592750549, 0.6671215891838074, 0.6671178340911865, 0.6671171188354492, 0.6671134829521179, 0.6670973896980286, 1.8650120496749878, 2.468048095703125, 1.8667411804199219, 1.2675578594207764, 1.2669484615325928, 3.0653817653656006, 1.2676771879196167, 1.2637357711791992, 8.442787170410156, 7.231909275054932, 5.448921203613281, 6.6302409172058105, 1.865243911743164, 1.8588948249816895, 3.0561742782592773, 1.865380048751831, 1.266370177268982, 3.0435025691986084, 3.6549301147460938, 1.8569735288619995, 3.6070871353149414, 3.0272645950317383, 1.8568475246429443, 2.41618275642395, 3.552748441696167, 2.4468016624450684, 1.8510043621063232, 1.8524823188781738, 1.834145426750183, 1.8282852172851562, 1.7829984426498413, 1.7334955930709839, 1.7083709239959717, 0.0004633670032490045, 0.0004633670032490045, 0.0004633670032490045, 0.0004633670032490045, 0.0004633670032490045, 0.0004633670032490045, 0.0004633670032490045, 0.0004633670032490045, 0.0004633670032490045, 0.0004633670032490045, 0.0004633670032490045, 0.0004633670032490045, 0.0004633670032490045, 0.0004633670032490045, 0.0004633670032490045, 0.0004633670032490045, 0.0004633670032490045, 0.0004633670032490045, 0.0004633670032490045, 0.0004633670032490045, 0.0004633670032490045, 0.0004633670032490045, 0.0004633670032490045, 0.0004633670032490045, 0.0004633670032490045, 0.0004633670032490045, 0.0004633670032490045, 0.0004633670032490045, 0.0004633670032490045, 0.0004633670032490045, 0.0004633670032490045, 0.0004633670032490045, 0.0004633670032490045, 0.0004633670032490045, 0.0004633670032490045, 0.0004633670032490045, 0.0004633670032490045, 0.0004683696024585515, 0.0004674180818255991, 0.00046735041541978717, 0.0004673070798162371, 0.00046728478628210723, 0.00046676176134496927, 0.0004667196481022984, 0.0004666712775360793, 0.0004666370805352926, 0.000466535915620625, 0.00046614769962616265, 0.0004661068960558623, 0.00046608844422735274, 0.00046601693611592054, 0.0004660134145524353, 0.00046597939217463136, 0.00046585750533267856, 0.00046573617146350443, 0.000465702498331666, 0.000465629156678915, 0.00046554446453228593, 0.00046553919673897326, 0.00046551841660402715, 0.0004654937656596303, 0.00046548419049941003, 0.0004653683281503618, 0.00046531367115676403, 0.00046529993414878845, 0.0004652918432839215, 0.0004652556963264942, 50.08695983886719, 7.1132378578186035, 5.359105587005615, 5.359050750732422, 4.481976509094238, 3.605626106262207, 3.605516195297241, 3.6054751873016357, 3.6050093173980713, 3.605046033859253, 2.728423833847046, 2.728428840637207, 2.7284042835235596, 2.728391408920288, 2.7283473014831543, 2.72800874710083, 2.727829694747925, 6.2361931800842285, 1.8515700101852417, 1.8515316247940063, 1.851514220237732, 1.8514974117279053, 1.8514784574508667, 1.8514586687088013, 1.851447582244873, 1.851456880569458, 1.8514269590377808, 1.851410150527954, 1.8513902425765991, 1.85139000415802, 4.4818243980407715, 10.623372077941895, 64.99844360351562, 47.45473098754883, 5.359711647033691, 3.6054062843322754, 3.605205774307251, 6.237110614776611, 23.777475357055664, 3.605212688446045, 6.237049579620361, 10.622283935546875, 11.500243186950684, 6.237640857696533, 12.378252983093262, 21.155818939208984, 10.624617576599121, 7.991288661956787, 7.11478328704834, 20.288652420043945, 13.25610637664795, 7.991196632385254, 9.745867729187012, 7.994060039520264, 6.237326145172119, 12.383162498474121, 9.751656532287598, 12.388821601867676, 11.508213996887207, 11.515667915344238, 9.754648208618164, 9.75975227355957, 7.997066020965576, 7.997249126434326, 7.9974517822265625, 7.997913837432861, 8.01384449005127, 7.129165172576904, 7.12258768081665, 4.7127814292907715, 2.3995635509490967, 1.6281839609146118, 1.6280790567398071, 1.6280465126037598, 1.6279852390289307, 1.6279276609420776, 1.627927303314209, 1.6278645992279053, 1.6278079748153687, 1.6277556419372559, 1.6277351379394531, 1.6276063919067383, 0.8570194244384766, 0.8570219874382019, 0.8569974303245544, 0.8569863438606262, 0.8569726943969727, 0.8569700717926025, 0.856939435005188, 0.8569546341896057, 0.856931746006012, 0.8569319248199463, 0.8569305539131165, 0.8569265604019165, 0.856937050819397, 0.856921911239624, 0.8569232225418091, 0.8569238185882568, 0.8569157123565674, 2.3988113403320312, 3.9415111541748047, 2.39908504486084, 2.3990564346313477, 2.399728775024414, 1.628509521484375, 2.4023399353027344, 3.1706159114837646, 1.6325258016586304, 3.1704914569854736, 9.344985961914062, 1.6280308961868286, 1.6277835369110107, 11.659029006958008, 1.628241777420044, 1.6280993223190308, 1.6280527114868164, 1.6280649900436401, 11.667048454284668, 7.802083969116211, 17.10001564025879, 7.039646625518799, 3.945871591567993, 4.713274002075195, 3.9419937133789062, 4.715353965759277, 7.045738697052002, 3.941957950592041, 6.271557331085205, 3.9569478034973145, 3.948335886001587, 3.175358533859253, 3.1710894107818604, 3.945858955383301, 4.7183308601379395, 4.720679759979248, 6.274868965148926, 5.505009174346924, 4.724968433380127, 4.726487636566162, 3.9558932781219482, 3.180537700653076, 3.9557018280029297, 3.198272943496704, 3.194662094116211, 3.1938085556030273, 7.547068119049072, 5.0658111572265625, 3.4085752964019775, 3.4064793586730957, 3.4057834148406982, 2.580423355102539, 2.579899787902832, 2.5792837142944336, 2.575178861618042, 2.5748298168182373, 6.7236857414245605, 5.0406341552734375, 1.7510344982147217, 1.7510020732879639, 1.7507528066635132, 1.75077223777771, 1.7506687641143799, 1.7507213354110718, 1.7505829334259033, 1.7506184577941895, 1.7505196332931519, 1.7505443096160889, 1.750403881072998, 1.7502250671386719, 1.750144600868225, 1.7499098777770996, 1.7498290538787842, 1.749788522720337, 1.7499128580093384, 1.7499737739562988, 4.235415458679199, 8.384923934936523, 11.639802932739258, 5.89381742477417, 5.718049049377441, 5.065729141235352, 4.235858917236328, 4.236027717590332, 5.893804550170898, 8.377331733703613, 7.452371597290039, 4.151425838470459, 5.06790018081665, 3.3527755737304688, 11.87625789642334, 2.5684406757354736, 7.5529022216796875, 9.212388038635254, 3.3016247749328613, 5.064062118530273, 10.530872344970703, 10.861520767211914, 9.205883979797363, 8.193967819213867, 5.065864086151123, 7.236895561218262, 5.875701427459717, 9.751120567321777, 8.160726547241211, 6.755344390869141, 7.493863105773926, 7.870266914367676, 5.638709545135498, 6.9150824546813965, 7.289831161499023, 5.688766002655029, 5.893352508544922, 5.641420364379883, 5.499183654785156], \"Term\": [\"sir\", \"oh\", \"artoo\", \"force\", \"luke\", \"yes\", \"chewie\", \"must\", \"got\", \"jedi\", \"get\", \"father\", \"master\", \"going\", \"old\", \"kid\", \"know\", \"vader\", \"side\", \"yeah\", \"dark\", \"ben\", \"ready\", \"look\", \"lando\", \"okay\", \"right\", \"hey\", \"skywalker\", \"could\", \"burden\", \"deepest\", \"agent\", \"passive\", \"sick\", \"grow\", \"earned\", \"hmph\", \"knowledge\", \"serious\", \"defense\", \"unlearn\", \"require\", \"nine\", \"consume\", \"today\", \"stone\", \"night\", \"mmmmmm\", \"tree\", \"motion\", \"begin\", \"luminous\", \"domain\", \"runs\", \"walker\", \"quicker\", \"everywhere\", \"counsel\", \"unexpected\", \"beings\", \"chewie\", \"get\", \"us\", \"well\", \"got\", \"come\", \"going\", \"ship\", \"right\", \"one\", \"lando\", \"look\", \"kid\", \"good\", \"let\", \"know\", \"hey\", \"take\", \"luke\", \"time\", \"think\", \"see\", \"leave\", \"yeah\", \"go\", \"around\", \"thank\", \"back\", \"like\", \"huh\", \"little\", \"could\", \"slow\", \"dantooine\", \"ease\", \"tarkin\", \"mining\", \"attacked\", \"explanation\", \"bunker\", \"understood\", \"slope\", \"loves\", \"brought\", \"rieekan\", \"intact\", \"extends\", \"natural\", \"stench\", \"per\", \"proceed\", \"bait\", \"colony\", \"guild\", \"activated\", \"served\", \"member\", \"analyzed\", \"cares\", \"carriers\", \"tracking\", \"collapsing\", \"hurt\", \"code\", \"certainly\", \"diplomatic\", \"senate\", \"regret\", \"transports\", \"ta\", \"stuck\", \"ground\", \"hope\", \"kenobi\", \"information\", \"energy\", \"still\", \"luke\", \"need\", \"trap\", \"ships\", \"know\", \"help\", \"came\", \"han\", \"get\", \"gon\", \"general\", \"us\", \"na\", \"come\", \"away\", \"lando\", \"got\", \"going\", \"could\", \"alderaan\", \"like\", \"chewie\", \"go\", \"let\", \"ca\", \"leave\", \"little\", \"oh\", \"tell\", \"something\", \"right\", \"one\", \"think\", \"must\", \"father\", \"kid\", \"yeah\", \"huh\", \"ben\", \"biggs\", \"home\", \"dack\", \"red\", \"kill\", \"lot\", \"pal\", \"fine\", \"ai\", \"sweetheart\", \"check\", \"full\", \"whole\", \"beginning\", \"okay\", \"big\", \"chewie\", \"guys\", \"goin\", \"smell\", \"deck\", \"moving\", \"season\", \"rouge\", \"threepio\", \"hey\", \"got\", \"keep\", \"right\", \"hit\", \"wedge\", \"around\", \"get\", \"look\", \"going\", \"care\", \"lando\", \"wo\", \"back\", \"well\", \"come\", \"like\", \"take\", \"ca\", \"know\", \"bad\", \"go\", \"see\", \"let\", \"us\", \"could\", \"think\", \"one\", \"good\", \"father\", \"tell\", \"luke\", \"oh\", \"artoo\", \"burden\", \"deepest\", \"agent\", \"passive\", \"sick\", \"grow\", \"earned\", \"hmph\", \"knowledge\", \"serious\", \"defense\", \"unlearn\", \"require\", \"nine\", \"consume\", \"today\", \"stone\", \"night\", \"mmmmmm\", \"tree\", \"motion\", \"begin\", \"luminous\", \"runs\", \"domain\", \"walker\", \"quicker\", \"everywhere\", \"counsel\", \"unexpected\", \"beings\", \"twilight\", \"stopped\", \"get\", \"right\", \"like\", \"come\", \"well\", \"going\", \"father\", \"chewie\", \"got\", \"go\", \"know\", \"take\", \"good\", \"oh\", \"artoo\", \"see\", \"look\", \"ca\", \"us\", \"ben\", \"back\", \"friend\", \"tell\", \"think\", \"let\", \"threepio\", \"luke\", \"ship\", \"something\", \"could\", \"mmm\", \"aggression\", \"flows\", \"beware\", \"concentrate\", \"calm\", \"matters\", \"heh\", \"dominate\", \"sky\", \"trained\", \"burden\", \"deepest\", \"agent\", \"passive\", \"grow\", \"sick\", \"hmph\", \"earned\", \"knowledge\", \"serious\", \"defense\", \"unlearn\", \"require\", \"nine\", \"consume\", \"stone\", \"today\", \"night\", \"mmmmmm\", \"future\", \"hmm\", \"ally\", \"reckless\", \"size\", \"training\", \"flow\", \"start\", \"force\", \"yes\", \"jedi\", \"must\", \"anger\", \"forever\", \"strong\", \"path\", \"confront\", \"mind\", \"dark\", \"learned\", \"old\", \"vader\", \"rest\", \"ready\", \"luke\", \"side\", \"control\", \"things\", \"feel\", \"need\", \"father\", \"look\", \"see\", \"burden\", \"deepest\", \"agent\", \"passive\", \"sick\", \"grow\", \"earned\", \"hmph\", \"knowledge\", \"serious\", \"defense\", \"unlearn\", \"require\", \"nine\", \"consume\", \"today\", \"stone\", \"night\", \"mmmmmm\", \"tree\", \"motion\", \"begin\", \"luminous\", \"domain\", \"runs\", \"walker\", \"quicker\", \"everywhere\", \"counsel\", \"unexpected\", \"beings\", \"twilight\", \"eight\", \"depends\", \"commitment\", \"hah\", \"hm\", \"oh\", \"get\", \"going\", \"take\", \"chewie\", \"us\", \"well\", \"know\", \"good\", \"come\", \"got\", \"like\", \"ship\", \"see\", \"luke\", \"right\", \"back\", \"one\", \"master\", \"must\", \"great\", \"yes\", \"artoo\", \"think\", \"could\", \"sir\", \"leave\", \"look\", \"skywalker\", \"go\", \"sir\", \"dear\", \"excuse\", \"goodness\", \"hutt\", \"rather\", \"doomed\", \"fluent\", \"terribly\", \"pardon\", \"playing\", \"malfunctioning\", \"beg\", \"bolt\", \"six\", \"forms\", \"communication\", \"chewbacca\", \"wake\", \"dialect\", \"deactivated\", \"ouch\", \"shoot\", \"job\", \"programming\", \"thermal\", \"intrude\", \"merely\", \"restraining\", \"human\", \"computer\", \"says\", \"oh\", \"artoo\", \"ohhh\", \"suggest\", \"freezing\", \"main\", \"master\", \"million\", \"message\", \"quite\", \"uh\", \"please\", \"wait\", \"luke\", \"sure\", \"might\", \"afraid\", \"going\", \"think\", \"princess\", \"would\", \"jabba\", \"say\", \"see\", \"help\", \"come\", \"well\", \"know\", \"back\", \"go\", \"could\", \"like\", \"good\", \"us\", \"get\", \"right\", \"ca\", \"became\", \"seduced\", \"knights\", \"born\", \"numbers\", \"patient\", \"experience\", \"senator\", \"politically\", \"suddenly\", \"foster\", \"deep\", \"organa\", \"flowing\", \"humbled\", \"greater\", \"adopted\", \"eventually\", \"scum\", \"instruct\", \"voices\", \"business\", \"consequences\", \"ideals\", \"gives\", \"feared\", \"impatient\", \"rushing\", \"truths\", \"wastes\", \"patience\", \"darth\", \"anakin\", \"took\", \"evil\", \"fate\", \"fighter\", \"learn\", \"safely\", \"first\", \"jedi\", \"win\", \"step\", \"force\", \"tatooine\", \"terrible\", \"view\", \"live\", \"father\", \"side\", \"luke\", \"vader\", \"always\", \"emperor\", \"yoda\", \"dark\", \"could\", \"course\", \"must\", \"alderaan\", \"empire\", \"powerful\", \"remember\", \"long\", \"would\", \"time\", \"well\", \"go\", \"let\", \"good\", \"little\", \"imperial\", \"see\", \"help\", \"get\", \"come\", \"admiral\", \"perhaps\", \"foreseen\", \"deal\", \"every\", \"operational\", \"endor\", \"lack\", \"pirate\", \"facility\", \"rebel\", \"lord\", \"sanctuary\", \"witness\", \"arrive\", \"journey\", \"skills\", \"refer\", \"faith\", \"insignificant\", \"expecting\", \"concern\", \"hatred\", \"resist\", \"survive\", \"higher\", \"finds\", \"base\", \"spies\", \"constructed\", \"plans\", \"young\", \"skywalker\", \"commander\", \"fighters\", \"son\", \"complete\", \"send\", \"destiny\", \"emperor\", \"friends\", \"join\", \"fleet\", \"troops\", \"ship\", \"security\", \"dark\", \"side\", \"alive\", \"destroy\", \"yes\", \"master\", \"force\", \"time\", \"bring\", \"want\", \"shield\", \"good\", \"must\", \"power\", \"take\", \"us\", \"leave\", \"see\", \"know\", \"vader\", \"father\", \"would\", \"come\"], \"Total\": [52.0, 98.0, 73.0, 37.0, 84.0, 38.0, 61.0, 42.0, 63.0, 26.0, 99.0, 44.0, 43.0, 95.0, 28.0, 21.0, 87.0, 28.0, 27.0, 19.0, 20.0, 24.0, 17.0, 41.0, 24.0, 22.0, 80.0, 27.0, 16.0, 51.0, 1.1354624032974243, 1.1354663372039795, 1.1354942321777344, 1.1355007886886597, 1.1355022192001343, 1.1355026960372925, 1.1355079412460327, 1.135508418083191, 1.1355115175247192, 1.1355125904083252, 1.1355149745941162, 1.1355180740356445, 1.1355204582214355, 1.1355226039886475, 1.1355239152908325, 1.1355253458023071, 1.1355258226394653, 1.1355280876159668, 1.1355326175689697, 1.1355401277542114, 1.135542631149292, 1.1355440616607666, 1.1355445384979248, 1.1355483531951904, 1.1355483531951904, 1.135549783706665, 1.1355531215667725, 1.135560154914856, 1.1355606317520142, 1.1355609893798828, 1.1355657577514648, 61.097442626953125, 99.14755249023438, 59.768028259277344, 78.67591857910156, 63.63326644897461, 84.72149658203125, 95.90931701660156, 37.95236587524414, 80.51447296142578, 44.92226028442383, 24.206560134887695, 41.440731048583984, 21.45991325378418, 57.05549240112305, 46.90542221069336, 87.37328338623047, 27.661544799804688, 48.832313537597656, 84.03273010253906, 33.41016387939453, 47.44580841064453, 65.50188446044922, 21.13351821899414, 19.555564880371094, 60.885986328125, 22.838085174560547, 13.362361907958984, 57.30295944213867, 54.92253875732422, 10.045385360717773, 29.682052612304688, 51.01474380493164, 2.0523009300231934, 2.0523107051849365, 2.0523362159729004, 2.052384376525879, 2.0523502826690674, 2.0523693561553955, 2.052363634109497, 2.052394390106201, 1.2930532693862915, 1.2930411100387573, 1.2930349111557007, 1.2930387258529663, 1.2930333614349365, 1.2930492162704468, 1.2930409908294678, 1.2930556535720825, 1.2930463552474976, 1.2930504083633423, 1.2930492162704468, 1.29306161403656, 1.293054461479187, 1.293046236038208, 1.2930556535720825, 1.2930536270141602, 1.2930457592010498, 1.2930636405944824, 1.2930629253387451, 1.2930762767791748, 1.2930446863174438, 1.2930576801300049, 3.6890504360198975, 4.518612384796143, 2.8241870403289795, 2.8241894245147705, 2.881972551345825, 2.9296813011169434, 3.0034687519073486, 3.003589630126953, 3.0036725997924805, 3.0037479400634766, 18.290136337280273, 15.864476203918457, 5.290698051452637, 5.969304084777832, 14.415848731994629, 84.03273010253906, 18.726903915405273, 3.7083146572113037, 6.616296768188477, 87.37328338623047, 40.692771911621094, 7.278764724731445, 24.7157039642334, 99.14755249023438, 12.132286071777344, 12.497241020202637, 59.768028259277344, 13.008617401123047, 84.72149658203125, 13.71567440032959, 24.206560134887695, 63.63326644897461, 95.90931701660156, 51.01474380493164, 15.040204048156738, 54.92253875732422, 61.097442626953125, 60.885986328125, 46.90542221069336, 43.15694046020508, 21.13351821899414, 29.682052612304688, 98.0727310180664, 27.707998275756836, 29.933635711669922, 80.51447296142578, 44.92226028442383, 47.44580841064453, 42.19751739501953, 44.6922492980957, 21.45991325378418, 19.555564880371094, 10.045385360717773, 24.127410888671875, 8.144800186157227, 7.189730644226074, 6.242432594299316, 6.238731384277344, 6.238710403442383, 18.53174591064453, 5.290066242218018, 5.290189743041992, 5.289663791656494, 5.2895379066467285, 5.289876461029053, 5.29042387008667, 5.290356636047363, 5.290097713470459, 22.023365020751953, 12.707788467407227, 61.097442626953125, 4.3388800621032715, 4.338433265686035, 4.33891487121582, 4.339136600494385, 4.339495658874512, 4.339418411254883, 4.339493274688721, 19.177135467529297, 27.661544799804688, 63.63326644897461, 15.290070533752441, 80.51447296142578, 10.924086570739746, 8.993675231933594, 22.838085174560547, 99.14755249023438, 41.440731048583984, 95.90931701660156, 13.701689720153809, 24.206560134887695, 16.354999542236328, 57.30295944213867, 78.67591857910156, 84.72149658203125, 54.92253875732422, 48.832313537597656, 43.15694046020508, 87.37328338623047, 21.726327896118164, 60.885986328125, 65.50188446044922, 46.90542221069336, 59.768028259277344, 51.01474380493164, 47.44580841064453, 44.92226028442383, 57.05549240112305, 44.6922492980957, 27.707998275756836, 84.03273010253906, 98.0727310180664, 73.02701568603516, 1.1354624032974243, 1.1354663372039795, 1.1354942321777344, 1.1355007886886597, 1.1355022192001343, 1.1355026960372925, 1.1355079412460327, 1.135508418083191, 1.1355115175247192, 1.1355125904083252, 1.1355149745941162, 1.1355180740356445, 1.1355204582214355, 1.1355226039886475, 1.1355239152908325, 1.1355253458023071, 1.1355258226394653, 1.1355280876159668, 1.1355326175689697, 1.1355401277542114, 1.135542631149292, 1.1355440616607666, 1.1355445384979248, 1.1355483531951904, 1.1355483531951904, 1.135549783706665, 1.1355531215667725, 1.135560154914856, 1.1355606317520142, 1.1355609893798828, 1.1355657577514648, 1.1355712413787842, 1.1355727910995483, 99.14755249023438, 80.51447296142578, 54.92253875732422, 84.72149658203125, 78.67591857910156, 95.90931701660156, 44.6922492980957, 61.097442626953125, 63.63326644897461, 60.885986328125, 87.37328338623047, 48.832313537597656, 57.05549240112305, 98.0727310180664, 73.02701568603516, 65.50188446044922, 41.440731048583984, 43.15694046020508, 59.768028259277344, 24.127410888671875, 57.30295944213867, 17.334720611572266, 27.707998275756836, 47.44580841064453, 46.90542221069336, 19.177135467529297, 84.03273010253906, 37.95236587524414, 29.933635711669922, 51.01474380493164, 2.338899612426758, 1.7372006177902222, 1.7372466325759888, 1.7372536659240723, 1.7372777462005615, 1.7372791767120361, 1.7373032569885254, 1.7374008893966675, 1.7374494075775146, 1.737465262413025, 3.1108975410461426, 1.1354624032974243, 1.1354663372039795, 1.1354942321777344, 1.1355007886886597, 1.1355026960372925, 1.1355022192001343, 1.135508418083191, 1.1355079412460327, 1.1355115175247192, 1.1355125904083252, 1.1355149745941162, 1.1355180740356445, 1.1355204582214355, 1.1355226039886475, 1.1355239152908325, 1.1355258226394653, 1.1355253458023071, 1.1355280876159668, 1.1355326175689697, 3.2916791439056396, 4.589986324310303, 3.9407830238342285, 2.5090527534484863, 2.5092203617095947, 7.698787212371826, 2.567260265350342, 2.6902191638946533, 37.2898063659668, 38.960628509521484, 26.86348533630371, 42.19751739501953, 5.781810760498047, 5.939038276672363, 13.81956672668457, 6.173688888549805, 3.26863431930542, 14.435542106628418, 20.057580947875977, 6.906002998352051, 28.422531127929688, 28.096603393554688, 7.588200092315674, 17.92678451538086, 84.03273010253906, 27.144878387451172, 9.29666519165039, 13.573020935058594, 15.689606666564941, 18.726903915405273, 44.6922492980957, 41.440731048583984, 65.50188446044922, 1.1354624032974243, 1.1354663372039795, 1.1354942321777344, 1.1355007886886597, 1.1355022192001343, 1.1355026960372925, 1.1355079412460327, 1.135508418083191, 1.1355115175247192, 1.1355125904083252, 1.1355149745941162, 1.1355180740356445, 1.1355204582214355, 1.1355226039886475, 1.1355239152908325, 1.1355253458023071, 1.1355258226394653, 1.1355280876159668, 1.1355326175689697, 1.1355401277542114, 1.135542631149292, 1.1355440616607666, 1.1355445384979248, 1.1355483531951904, 1.1355483531951904, 1.135549783706665, 1.1355531215667725, 1.135560154914856, 1.1355606317520142, 1.1355609893798828, 1.1355657577514648, 1.1355712413787842, 1.135582685470581, 1.1355748176574707, 1.1355763673782349, 1.1355828046798706, 1.1355797052383423, 98.0727310180664, 99.14755249023438, 95.90931701660156, 48.832313537597656, 61.097442626953125, 59.768028259277344, 78.67591857910156, 87.37328338623047, 57.05549240112305, 84.72149658203125, 63.63326644897461, 54.92253875732422, 37.95236587524414, 65.50188446044922, 84.03273010253906, 80.51447296142578, 57.30295944213867, 44.92226028442383, 43.21619415283203, 42.19751739501953, 18.496702194213867, 38.960628509521484, 73.02701568603516, 47.44580841064453, 51.01474380493164, 52.449310302734375, 21.13351821899414, 41.440731048583984, 16.739151000976562, 60.885986328125, 52.449310302734375, 7.553146839141846, 5.7982587814331055, 5.798252105712891, 4.92075777053833, 4.043428897857666, 4.043436050415039, 4.043463706970215, 4.043380260467529, 4.043436050415039, 3.16599702835083, 3.1660051345825195, 3.166006088256836, 3.166018486022949, 3.1660189628601074, 3.166013717651367, 3.166053295135498, 7.447381496429443, 2.288607597351074, 2.2886085510253906, 2.2886109352111816, 2.288602828979492, 2.288601875305176, 2.288602828979492, 2.28859281539917, 2.2886056900024414, 2.2886033058166504, 2.288604259490967, 2.2886013984680176, 2.288602828979492, 5.692774295806885, 13.916635513305664, 98.0727310180664, 73.02701568603516, 7.353676795959473, 4.815301895141602, 4.87252140045166, 9.215717315673828, 43.21619415283203, 4.994594573974609, 9.529882431030273, 18.400609970092773, 22.20471954345703, 10.096969604492188, 33.232879638671875, 84.03273010253906, 28.40764617919922, 18.28245735168457, 15.428924560546875, 95.90931701660156, 47.44580841064453, 20.318099975585938, 31.376081466674805, 23.505260467529297, 13.773382186889648, 65.50188446044922, 40.692771911621094, 84.72149658203125, 78.67591857910156, 87.37328338623047, 57.30295944213867, 60.885986328125, 51.01474380493164, 54.92253875732422, 57.05549240112305, 59.768028259277344, 99.14755249023438, 80.51447296142578, 43.15694046020508, 5.164593696594238, 2.849196195602417, 2.0774054527282715, 2.0773870944976807, 2.0774269104003906, 2.077425003051758, 2.0774152278900146, 2.0774190425872803, 2.0774648189544678, 2.077436685562134, 2.0774002075195312, 2.0774168968200684, 2.0774123668670654, 1.3055894374847412, 1.305600643157959, 1.305589199066162, 1.3056026697158813, 1.3055973052978516, 1.3056038618087769, 1.3055833578109741, 1.305607795715332, 1.3055851459503174, 1.3055882453918457, 1.3055968284606934, 1.305593729019165, 1.3056138753890991, 1.3055908679962158, 1.30559504032135, 1.3055967092514038, 1.3055903911590576, 3.679205894470215, 6.295680999755859, 3.8006250858306885, 3.8006560802459717, 4.052994251251221, 2.679368257522583, 4.368101596832275, 6.130336284637451, 2.8367040157318115, 6.401028156280518, 26.86348533630371, 2.9547948837280273, 2.9548487663269043, 37.2898063659668, 3.0288398265838623, 3.028681993484497, 3.028792142868042, 3.028822898864746, 44.6922492980957, 27.144878387451172, 84.03273010253906, 28.096603393554688, 12.944242477416992, 17.52847671508789, 13.9070463180542, 20.057580947875977, 51.01474380493164, 14.304678916931152, 42.19751739501953, 15.040204048156738, 16.944000244140625, 10.333606719970703, 10.39307975769043, 19.50457763671875, 31.376081466674805, 33.41016387939453, 78.67591857910156, 60.885986328125, 46.90542221069336, 57.05549240112305, 29.682052612304688, 14.294928550720215, 65.50188446044922, 40.692771911621094, 99.14755249023438, 84.72149658203125, 8.002901077270508, 5.513159275054932, 3.8536581993103027, 3.8533167839050293, 3.8532557487487793, 3.0237536430358887, 3.0236802101135254, 3.0235390663146973, 3.023014545440674, 3.0230164527893066, 7.944913864135742, 6.270217418670654, 2.193856954574585, 2.1938514709472656, 2.1936495304107666, 2.193716526031494, 2.193643569946289, 2.193779945373535, 2.1936542987823486, 2.193756103515625, 2.1936371326446533, 2.1937270164489746, 2.193744421005249, 2.193615198135376, 2.193668842315674, 2.193472385406494, 2.193436861038208, 2.1934006214141846, 2.1935839653015137, 2.1937155723571777, 5.560645580291748, 11.738907814025879, 16.739151000976562, 8.053229331970215, 8.071173667907715, 7.056718826293945, 6.239130973815918, 6.3937811851501465, 10.043628692626953, 17.52847671508789, 16.083221435546875, 7.206271171569824, 10.078290939331055, 5.569683074951172, 37.95236587524414, 3.899857997894287, 20.057580947875977, 27.144878387451172, 5.770977020263672, 11.475069999694824, 38.960628509521484, 43.21619415283203, 37.2898063659668, 33.41016387939453, 12.858184814453125, 28.15786361694336, 17.972881317138672, 57.05549240112305, 42.19751739501953, 26.219953536987305, 48.832313537597656, 59.768028259277344, 21.13351821899414, 65.50188446044922, 87.37328338623047, 28.096603393554688, 44.6922492980957, 31.376081466674805, 84.72149658203125], \"loglift\": [30.0, 29.0, 28.0, 27.0, 26.0, 25.0, 24.0, 23.0, 22.0, 21.0, 20.0, 19.0, 18.0, 17.0, 16.0, 15.0, 14.0, 13.0, 12.0, 11.0, 10.0, 9.0, 8.0, 7.0, 6.0, 5.0, 4.0, 3.0, 2.0, 1.0, 1.3252999782562256, 1.3252999782562256, 1.3252999782562256, 1.3251999616622925, 1.3251999616622925, 1.3251999616622925, 1.3251999616622925, 1.3251999616622925, 1.3251999616622925, 1.3251999616622925, 1.3251999616622925, 1.3251999616622925, 1.3251999616622925, 1.3251999616622925, 1.3251999616622925, 1.3251999616622925, 1.3251999616622925, 1.3251999616622925, 1.3251999616622925, 1.3251999616622925, 1.3251999616622925, 1.3251999616622925, 1.3251999616622925, 1.3251999616622925, 1.3251999616622925, 1.3251999616622925, 1.3251999616622925, 1.3251999616622925, 1.3251999616622925, 1.3251999616622925, 1.3251999616622925, -2.5137999057769775, -3.0099000930786133, -2.5439999103546143, -2.824399948120117, -2.6238999366760254, -2.9102001190185547, -3.035900115966797, -2.120300054550171, -2.867000102996826, -2.2908999919891357, -1.6789000034332275, -2.212599992752075, -1.5622999668121338, -2.5329999923706055, -2.3396999835968018, -2.9576001167297363, -1.819200038909912, -2.383500099182129, -2.9217000007629395, -2.0092999935150146, -2.356800079345703, -2.677799940109253, -1.5599000453948975, -1.4843000173568726, -2.6110000610351562, -1.6414999961853027, -1.111799955368042, -2.5534000396728516, -2.5123000144958496, -0.8306000232696533, -1.90339994430542, -2.4460999965667725, 2.202899932861328, 2.202699899673462, 2.2026000022888184, 2.202500104904175, 2.2016000747680664, 2.2014999389648438, 2.2012999057769775, 2.2011001110076904, 2.024199962615967, 2.0241000652313232, 2.0239999294281006, 2.0239999294281006, 2.023699998855591, 2.023699998855591, 2.0236001014709473, 2.0236001014709473, 2.0234999656677246, 2.0234999656677246, 2.023400068283081, 2.0232999324798584, 2.0232999324798584, 2.023200035095215, 2.023200035095215, 2.023200035095215, 2.023099899291992, 2.023099899291992, 2.023099899291992, 2.0230000019073486, 2.0230000019073486, 2.0230000019073486, 2.0032999515533447, 1.8028000593185425, 1.8828999996185303, 1.881100058555603, 1.8662999868392944, 1.8478000164031982, 1.823699951171875, 1.8229999542236328, 1.8222999572753906, 1.8214999437332153, 1.378000020980835, 1.3734999895095825, 1.642300009727478, 1.5276000499725342, 1.1901999711990356, 0.5342000126838684, 1.059399962425232, 1.6360000371932983, 1.4212000370025635, 0.4417000114917755, 0.6984999775886536, 1.355299949645996, 0.843500018119812, 0.18410000205039978, 1.0942000150680542, 1.066100001335144, 0.19670000672340393, 1.024899959564209, -0.041999999433755875, 0.9916999936103821, 0.6449999809265137, 0.004800000227987766, -0.2784999907016754, 0.07620000094175339, 0.8777999877929688, 0.0052999998442828655, -0.09589999914169312, -0.09459999948740005, -0.013299999758601189, 0.04560000076889992, 0.5496000051498413, 0.2434999942779541, -0.7477999925613403, 0.27079999446868896, 0.1965000033378601, -0.7197999954223633, -0.19269999861717224, -0.2533000111579895, -0.13760000467300415, -0.1995999962091446, 0.734000027179718, 0.7314000129699707, 0.7105000019073486, 0.703499972820282, 0.6998000144958496, 0.6905999779701233, 0.6830999851226807, 0.680400013923645, 0.6802999973297119, 0.6802999973297119, 0.6699000000953674, 0.6697999835014343, 0.6697999835014343, 0.669700026512146, 0.669700026512146, 0.669700026512146, 0.669700026512146, 0.669700026512146, 0.6603000164031982, 0.656000018119812, 0.6504999995231628, 0.6503999829292297, 0.6503999829292297, 0.6503000259399414, 0.6503000259399414, 0.6500999927520752, 0.6500999927520752, 0.6500999927520752, 0.6468999981880188, 0.646399974822998, 0.611299991607666, 0.6345000267028809, 0.5831999778747559, 0.626800000667572, 0.6222000122070312, 0.5755000114440918, 0.4934999942779541, 0.504800021648407, 0.40290001034736633, 0.5796999931335449, 0.512499988079071, 0.551800012588501, 0.412200003862381, 0.3725999891757965, 0.351500004529953, 0.37389999628067017, 0.36489999294281006, 0.37709999084472656, 0.251800000667572, 0.46320000290870667, 0.2386000007390976, 0.21289999783039093, 0.27410000562667847, 0.19460000097751617, 0.1940000057220459, 0.2117999941110611, 0.2287999987602234, 0.14579999446868896, 0.05050000175833702, 0.3840000033378601, -0.4778999984264374, -0.6011000275611877, -0.40290001034736633, 1.3281999826431274, 1.3281999826431274, 1.3281999826431274, 1.3281999826431274, 1.3281999826431274, 1.3281999826431274, 1.3281999826431274, 1.3281999826431274, 1.3281999826431274, 1.3281999826431274, 1.3281999826431274, 1.3281999826431274, 1.3281999826431274, 1.3281999826431274, 1.3281999826431274, 1.3281999826431274, 1.3281999826431274, 1.3281999826431274, 1.3281999826431274, 1.3281999826431274, 1.3281999826431274, 1.3281999826431274, 1.3281999826431274, 1.3281999826431274, 1.3281999826431274, 1.3281999826431274, 1.3281999826431274, 1.3281999826431274, 1.3281999826431274, 1.3281999826431274, 1.3281999826431274, 1.3280999660491943, 1.3280999660491943, -3.1191999912261963, -2.914400100708008, -2.535399913787842, -2.969099998474121, -2.8959999084472656, -3.0945000648498535, -2.330899953842163, -2.643699884414673, -2.6863999366760254, -2.642699956893921, -3.003999948501587, -2.422499895095825, -2.578200101852417, -3.1205999851226807, -2.8261001110076904, -2.717400074005127, -2.259700059890747, -2.300299882888794, -2.6268999576568604, -1.7204999923706055, -2.585700035095215, -1.3903000354766846, -1.8593000173568726, -2.3975000381469727, -2.3861000537872314, -1.4917999505996704, -2.9693000316619873, -2.174499988555908, -1.9371999502182007, -2.4704999923706055, 3.02839994430542, 2.9381000995635986, 2.9379000663757324, 2.9379000663757324, 2.9377999305725098, 2.9377999305725098, 2.937700033187866, 2.9374001026153564, 2.9372000694274902, 2.9372000694274902, 2.742799997329712, 2.7216999530792236, 2.7216999530792236, 2.7214999198913574, 2.7214999198913574, 2.7214999198913574, 2.7214999198913574, 2.721400022506714, 2.721400022506714, 2.721400022506714, 2.721400022506714, 2.721400022506714, 2.721400022506714, 2.721400022506714, 2.721400022506714, 2.721299886703491, 2.721299886703491, 2.721299886703491, 2.721299886703491, 2.721299886703491, 2.6851000785827637, 2.6328001022338867, 2.50600004196167, 2.5703999996185303, 2.5697999000549316, 2.3322999477386475, 2.547499895095825, 2.4976999759674072, 1.767799973487854, 1.569200038909912, 1.6578999757766724, 1.402500033378601, 2.1219000816345215, 2.091599941253662, 1.7443000078201294, 2.0564000606536865, 2.305000066757202, 1.6964999437332153, 1.5506999492645264, 1.9398000240325928, 1.1888999938964844, 1.0252000093460083, 1.8454999923706055, 1.2490999698638916, 0.08969999849796295, 0.8468000292778015, 1.639299988746643, 1.2616000175476074, 1.1067999601364136, 0.9265999794006348, 0.031700000166893005, 0.07909999787807465, -0.39329999685287476, 1.3285000324249268, 1.3285000324249268, 1.3284000158309937, 1.3284000158309937, 1.3284000158309937, 1.3284000158309937, 1.3284000158309937, 1.3284000158309937, 1.3284000158309937, 1.3284000158309937, 1.3284000158309937, 1.3284000158309937, 1.3284000158309937, 1.3284000158309937, 1.3284000158309937, 1.3284000158309937, 1.3284000158309937, 1.3284000158309937, 1.3284000158309937, 1.3284000158309937, 1.3284000158309937, 1.3284000158309937, 1.3284000158309937, 1.3284000158309937, 1.3284000158309937, 1.3284000158309937, 1.3284000158309937, 1.3284000158309937, 1.3284000158309937, 1.3284000158309937, 1.3284000158309937, 1.3284000158309937, 1.3284000158309937, 1.3284000158309937, 1.3284000158309937, 1.3284000158309937, 1.3284000158309937, -3.119499921798706, -3.1324000358581543, -3.099299907684326, -2.4244000911712646, -2.6484999656677246, -2.627700090408325, -2.902600049972534, -3.0076000690460205, -2.5815000534057617, -2.9769999980926514, -2.6916000843048096, -2.5445001125335693, -2.174999952316284, -2.720900058746338, -2.9700000286102295, -2.927299976348877, -2.5875000953674316, -2.3443000316619873, -2.3057000637054443, -2.2820000648498535, -1.4573999643325806, -2.202399969100952, -2.830699920654297, -2.3994998931884766, -2.472100019454956, -2.5, -1.5911999940872192, -2.2646000385284424, -1.3581000566482544, -2.649399995803833, 1.6370999813079834, 1.6232000589370728, 1.6045000553131104, 1.6045000553131104, 1.5898000001907349, 1.568600058555603, 1.568600058555603, 1.568600058555603, 1.56850004196167, 1.56850004196167, 1.534500002861023, 1.534500002861023, 1.534500002861023, 1.534500002861023, 1.5343999862670898, 1.5342999696731567, 1.5341999530792236, 1.5056999921798706, 1.4713000059127808, 1.4713000059127808, 1.4713000059127808, 1.4713000059127808, 1.4713000059127808, 1.4713000059127808, 1.4713000059127808, 1.4713000059127808, 1.4711999893188477, 1.4711999893188477, 1.4711999893188477, 1.4711999893188477, 1.444100022315979, 1.4132000207901, 1.2719000577926636, 1.2522000074386597, 1.3668999671936035, 1.3939000368118286, 1.3819999694824219, 1.292799949645996, 1.0857000350952148, 1.357200026512146, 1.2592999935150146, 1.1338000297546387, 1.0253000259399414, 1.2015999555587769, 0.6955999732017517, 0.30390000343322754, 0.6996999979019165, 0.8555999994277954, 0.9092000126838684, 0.1298999935388565, 0.4081000089645386, 0.7501000165939331, 0.5139999985694885, 0.6047000288963318, 0.890999972820282, 0.017500000074505806, 0.25459998846054077, -0.2393999993801117, -0.23909999430179596, -0.3433000147342682, -0.08739999681711197, -0.14749999344348907, -0.16979999840259552, -0.243599995970726, -0.2816999852657318, -0.3280999958515167, -0.8321999907493591, -0.7409999966621399, -0.11840000003576279, 2.3313000202178955, 2.2511000633239746, 2.1791999340057373, 2.1791999340057373, 2.1791000366210938, 2.1791000366210938, 2.1791000366210938, 2.1791000366210938, 2.178999900817871, 2.178999900817871, 2.178999900817871, 2.178999900817871, 2.1789000034332275, 2.0018999576568604, 2.0018999576568604, 2.0018999576568604, 2.0018999576568604, 2.0018999576568604, 2.0018999576568604, 2.0018999576568604, 2.001800060272217, 2.001800060272217, 2.001800060272217, 2.001800060272217, 2.001800060272217, 2.001800060272217, 2.001800060272217, 2.001800060272217, 2.001800060272217, 2.001800060272217, 1.9952000379562378, 1.9545999765396118, 1.9628000259399414, 1.9628000259399414, 1.898800015449524, 1.9249999523162842, 1.8250000476837158, 1.7635999917984009, 1.8703999519348145, 1.7202999591827393, 1.3669999837875366, 1.826799988746643, 1.82669997215271, 1.260200023651123, 1.8021999597549438, 1.8021999597549438, 1.8020999431610107, 1.8020999431610107, 1.0799000263214111, 1.1761000156402588, 0.8307999968528748, 1.0388000011444092, 1.2348999977111816, 1.1094000339508057, 1.1621999740600586, 0.9750999808311462, 0.4431999921798706, 1.1339999437332153, 0.5166000127792358, 1.0875999927520752, 0.9663000106811523, 1.242900013923645, 1.23580002784729, 0.8248999714851379, 0.5282999873161316, 0.4659999907016754, -0.10589999705553055, 0.019500000402331352, 0.12759999930858612, -0.06800000369548798, 0.4075999855995178, 0.9200000166893005, -0.3840000033378601, -0.12060000002384186, -1.0121999979019165, -0.8553000092506409, 1.9767999649047852, 1.9507999420166016, 1.9127000570297241, 1.9121999740600586, 1.9119999408721924, 1.8768999576568604, 1.8767000436782837, 1.8765000104904175, 1.875100016593933, 1.875, 1.868499994277954, 1.817199945449829, 1.809999942779541, 1.809999942779541, 1.8099000453948975, 1.8099000453948975, 1.8099000453948975, 1.8098000288009644, 1.8098000288009644, 1.8098000288009644, 1.8098000288009644, 1.8098000288009644, 1.8097000122070312, 1.8095999956130981, 1.8095999956130981, 1.809499979019165, 1.809499979019165, 1.809499979019165, 1.809499979019165, 1.809399962425232, 1.763200044631958, 1.6990000009536743, 1.6720999479293823, 1.7232999801635742, 1.6907999515533447, 1.7039999961853027, 1.6482000350952148, 1.6237000226974487, 1.5024000406265259, 1.2970999479293823, 1.2661999464035034, 1.4838999509811401, 1.3480000495910645, 1.527899980545044, 0.8737000226974487, 1.617799997329712, 1.0587999820709229, 0.954800009727478, 1.4769999980926514, 1.2173999547958374, 0.7271999716758728, 0.6545000076293945, 0.6366000175476074, 0.6299999952316284, 1.1039999723434448, 0.676800012588501, 0.9174000024795532, 0.2687999904155731, 0.39239999651908875, 0.6793000102043152, 0.16110000014305115, 0.008100000210106373, 0.7142000198364258, -0.21289999783039093, -0.44830000400543213, 0.4383000135421753, 0.009499999694526196, 0.31949999928474426, -0.6992999911308289], \"logprob\": [30.0, 29.0, 28.0, 27.0, 26.0, 25.0, 24.0, 23.0, 22.0, 21.0, 20.0, 19.0, 18.0, 17.0, 16.0, 15.0, 14.0, 13.0, 12.0, 11.0, 10.0, 9.0, 8.0, 7.0, 6.0, 5.0, 4.0, 3.0, 2.0, 1.0, -7.678699970245361, -7.678699970245361, -7.678699970245361, -7.678699970245361, -7.678699970245361, -7.678699970245361, -7.678699970245361, -7.678699970245361, -7.678699970245361, -7.678699970245361, -7.678699970245361, -7.678699970245361, -7.678699970245361, -7.678699970245361, -7.678699970245361, -7.678699970245361, -7.678699970245361, -7.678699970245361, -7.678699970245361, -7.678699970245361, -7.678699970245361, -7.678699970245361, -7.678699970245361, -7.678699970245361, -7.678699970245361, -7.678699970245361, -7.678699970245361, -7.678699970245361, -7.678699970245361, -7.678699970245361, -7.678699970245361, -7.532299995422363, -7.544300079345703, -7.584499835968018, -7.590000152587891, -7.6016998291015625, -7.601799964904785, -7.603400230407715, -7.614999771118164, -7.609600067138672, -7.6168999671936035, -7.623199939727783, -7.61929988861084, -7.627099990844727, -7.619999885559082, -7.622499942779541, -7.6184000968933105, -7.630199909210205, -7.626100063323975, -7.621500015258789, -7.631400108337402, -7.628200054168701, -7.626699924468994, -7.639999866485596, -7.642099857330322, -7.632999897003174, -7.644000053405762, -7.650300025939941, -7.636000156402588, -7.637400150299072, -7.654399871826172, -7.643899917602539, -7.644999980926514, -6.209099769592285, -6.2093000411987305, -6.209400177001953, -6.209499835968018, -6.210299968719482, -6.2104997634887695, -6.210700035095215, -6.2108001708984375, -6.849800109863281, -6.849899768829346, -6.849999904632568, -6.849999904632568, -6.850299835205078, -6.850299835205078, -6.850299835205078, -6.850299835205078, -6.850500106811523, -6.850500106811523, -6.850500106811523, -6.8506999015808105, -6.8506999015808105, -6.8506999015808105, -6.8506999015808105, -6.850800037384033, -6.850800037384033, -6.850800037384033, -6.850900173187256, -6.850900173187256, -6.85099983215332, -6.85099983215332, -5.822299957275391, -5.819900035858154, -6.209799766540527, -6.211599826812744, -6.206200122833252, -6.2083001136779785, -6.207499980926514, -6.208199977874756, -6.208799839019775, -6.20959997177124, -4.84660005569458, -4.9934000968933105, -5.822800159454346, -5.816800117492676, -5.27239990234375, -4.165500164031982, -5.141600131988525, -6.1844000816345215, -5.820300102233887, -4.219099998474121, -4.726399898529053, -5.790800094604492, -5.079999923706055, -4.350200176239014, -5.540900230407715, -5.539400100708008, -4.843800067901611, -5.54040002822876, -4.73360013961792, -5.520699977874756, -5.299300193786621, -4.9730000495910645, -4.8460001945495605, -5.122700214385986, -5.542500019073486, -5.119699954986572, -5.1143999099731445, -5.116499900817871, -5.29610013961792, -5.320499897003174, -5.5304999351501465, -5.497000217437744, -5.293099880218506, -5.538400173187256, -5.5355000495910645, -5.462299823760986, -5.518799781799316, -5.524700164794922, -5.526299953460693, -5.530700206756592, -5.3308000564575195, -5.426300048828125, -6.11329984664917, -5.244100093841553, -6.333799839019775, -6.467700004577637, -6.616499900817871, -6.619800090789795, -6.619900226593018, -5.531199932098389, -6.795199871063232, -6.795300006866455, -6.795400142669678, -6.795499801635742, -6.795499801635742, -6.795400142669678, -6.795400142669678, -6.795499801635742, -5.378499984741211, -5.932700157165527, -4.368000030517578, -7.012899875640869, -7.0131001472473145, -7.013000011444092, -7.013000011444092, -7.0131001472473145, -7.0131001472473145, -7.0131001472473145, -5.530300140380859, -5.1645002365112305, -4.366499900817871, -5.769199848175049, -4.159299850463867, -6.1132001876831055, -6.312300205230713, -5.427000045776367, -4.040800094604492, -4.901899814605713, -4.164700031280518, -5.933700084686279, -5.4319000244140625, -5.784599781036377, -4.670400142669678, -4.393099784851074, -4.340099811553955, -4.751100063323975, -4.877699851989746, -4.989099979400635, -4.408999919891357, -5.589200019836426, -4.783400058746338, -4.736000061035156, -5.008699893951416, -4.845900058746338, -5.004899978637695, -5.059599876403809, -5.0971999168396, -4.941199779510498, -5.280600070953369, -5.425300121307373, -5.177700042724609, -5.146399974822998, -5.243000030517578, -7.6757001876831055, -7.6757001876831055, -7.6757001876831055, -7.6757001876831055, -7.6757001876831055, -7.6757001876831055, -7.6757001876831055, -7.6757001876831055, -7.6757001876831055, -7.6757001876831055, -7.6757001876831055, -7.6757001876831055, -7.6757001876831055, -7.6757001876831055, -7.6757001876831055, -7.6757001876831055, -7.6757001876831055, -7.6757001876831055, -7.6757001876831055, -7.6757001876831055, -7.6757001876831055, -7.6757001876831055, -7.6757001876831055, -7.6757001876831055, -7.6757001876831055, -7.6757001876831055, -7.6757001876831055, -7.6757001876831055, -7.6757001876831055, -7.6757001876831055, -7.6757001876831055, -7.6757001876831055, -7.6757001876831055, -7.653600215911865, -7.656899929046631, -7.660399913787842, -7.660699844360352, -7.6616997718811035, -7.6620001792907715, -7.662099838256836, -7.662300109863281, -7.6641998291015625, -7.664599895477295, -7.664700031280518, -7.66510009765625, -7.66510009765625, -7.665800094604492, -7.666299819946289, -7.666299819946289, -7.666399955749512, -7.666399955749512, -7.667399883270264, -7.6682000160217285, -7.668300151824951, -7.668600082397461, -7.668600082397461, -7.668900012969971, -7.669000148773193, -7.669099807739258, -7.669099807739258, -7.6691999435424805, -7.6691999435424805, -7.669300079345703, -5.252799987792969, -5.640600204467773, -5.640699863433838, -5.6407999992370605, -5.6407999992370605, -5.6407999992370605, -5.640900135040283, -5.641200065612793, -5.641300201416016, -5.64139986038208, -5.253200054168701, -6.282199859619141, -6.282199859619141, -6.282400131225586, -6.282400131225586, -6.282400131225586, -6.282400131225586, -6.282400131225586, -6.282400131225586, -6.28249979019165, -6.28249979019165, -6.28249979019165, -6.28249979019165, -6.28249979019165, -6.28249979019165, -6.282599925994873, -6.282599925994873, -6.282599925994873, -6.282599925994873, -6.282599925994873, -5.254499912261963, -4.974299907684326, -5.253600120544434, -5.640699863433838, -5.641200065612793, -4.757599830627441, -5.640600204467773, -5.643700122833252, -3.744499921798706, -3.8993000984191895, -4.182400226593018, -3.9860999584198, -5.25439977645874, -5.257800102233887, -4.7606000900268555, -5.254300117492676, -5.641600131988525, -4.764800071716309, -4.581699848175049, -5.258800029754639, -4.594900131225586, -4.770100116729736, -5.258900165557861, -4.99560022354126, -4.610000133514404, -4.982999801635742, -5.26200008392334, -5.261199951171875, -5.271200180053711, -5.274400234222412, -5.299499988555908, -5.327600002288818, -5.342199802398682, -7.67549991607666, -7.67549991607666, -7.67549991607666, -7.67549991607666, -7.67549991607666, -7.67549991607666, -7.67549991607666, -7.67549991607666, -7.67549991607666, -7.67549991607666, -7.67549991607666, -7.67549991607666, -7.67549991607666, -7.67549991607666, -7.67549991607666, -7.67549991607666, -7.67549991607666, -7.67549991607666, -7.67549991607666, -7.67549991607666, -7.67549991607666, -7.67549991607666, -7.67549991607666, -7.67549991607666, -7.67549991607666, -7.67549991607666, -7.67549991607666, -7.67549991607666, -7.67549991607666, -7.67549991607666, -7.67549991607666, -7.67549991607666, -7.67549991607666, -7.67549991607666, -7.67549991607666, -7.67549991607666, -7.67549991607666, -7.664700031280518, -7.666800022125244, -7.666900157928467, -7.666999816894531, -7.666999816894531, -7.6682000160217285, -7.668300151824951, -7.668399810791016, -7.668399810791016, -7.668700218200684, -7.66949987411499, -7.669600009918213, -7.669600009918213, -7.6697998046875, -7.6697998046875, -7.6697998046875, -7.670100212097168, -7.670400142669678, -7.670400142669678, -7.670599937438965, -7.67080020904541, -7.67080020904541, -7.67080020904541, -7.670899868011475, -7.670899868011475, -7.671199798583984, -7.671299934387207, -7.671299934387207, -7.671299934387207, -7.67140007019043, -3.5339999198913574, -5.485799789428711, -5.769000053405762, -5.769000053405762, -5.947700023651123, -6.165299892425537, -6.165299892425537, -6.165299892425537, -6.16540002822876, -6.16540002822876, -6.443999767303467, -6.443999767303467, -6.443999767303467, -6.443999767303467, -6.4440999031066895, -6.444200038909912, -6.444200038909912, -5.617400169372559, -6.831699848175049, -6.831699848175049, -6.831699848175049, -6.8317999839782715, -6.8317999839782715, -6.8317999839782715, -6.8317999839782715, -6.8317999839782715, -6.8317999839782715, -6.8317999839782715, -6.8317999839782715, -6.8317999839782715, -5.947700023651123, -5.084700107574463, -3.273400068283081, -3.5880000591278076, -5.768799781799316, -6.165299892425537, -6.16540002822876, -5.617199897766113, -4.2789998054504395, -6.16540002822876, -5.617199897766113, -5.084799766540527, -5.00540018081665, -5.617099761962891, -4.93179988861084, -4.3958001136779785, -5.08459997177124, -5.3694000244140625, -5.485599994659424, -4.437699794769287, -4.86329984664917, -5.3694000244140625, -5.170899868011475, -5.369100093841553, -5.617199897766113, -4.931399822235107, -5.170300006866455, -4.931000232696533, -5.004700183868408, -5.004000186920166, -5.170000076293945, -5.16949987411499, -5.36870002746582, -5.36870002746582, -5.368599891662598, -5.368599891662598, -5.366600036621094, -5.48360013961792, -5.484499931335449, -5.157800197601318, -5.832799911499023, -6.220600128173828, -6.220699787139893, -6.220699787139893, -6.220699787139893, -6.220799922943115, -6.220799922943115, -6.220799922943115, -6.220799922943115, -6.220900058746338, -6.220900058746338, -6.2210001945495605, -6.862400054931641, -6.862400054931641, -6.862400054931641, -6.862400054931641, -6.862400054931641, -6.862400054931641, -6.862500190734863, -6.862500190734863, -6.862500190734863, -6.862500190734863, -6.862500190734863, -6.862500190734863, -6.862500190734863, -6.862500190734863, -6.862500190734863, -6.862500190734863, -6.862500190734863, -5.833099842071533, -5.33650016784668, -5.833000183105469, -5.833000183105469, -5.832699775695801, -6.220399856567383, -5.831600189208984, -5.554200172424316, -6.2179999351501465, -5.554200172424316, -4.473199844360352, -6.220699787139893, -6.220900058746338, -4.251999855041504, -6.220600128173828, -6.220699787139893, -6.220699787139893, -6.220699787139893, -4.251299858093262, -4.65369987487793, -3.86899995803833, -4.756499767303467, -5.335400104522705, -5.157700061798096, -5.336400032043457, -5.157299995422363, -4.75570011138916, -5.336400032043457, -4.872099876403809, -5.332600116729736, -5.334799766540527, -5.552700042724609, -5.553999900817871, -5.335400104522705, -5.156599998474121, -5.156099796295166, -4.871500015258789, -5.002399921417236, -5.155200004577637, -5.154900074005127, -5.332900047302246, -5.551000118255615, -5.332900047302246, -5.545499801635742, -5.546599864959717, -5.546899795532227, -5.074399948120117, -5.4730000495910645, -5.869200229644775, -5.869800090789795, -5.870100021362305, -6.147600173950195, -6.147799968719482, -6.1479997634887695, -6.149600028991699, -6.149700164794922, -5.189899921417236, -5.478000164031982, -6.535299777984619, -6.535299777984619, -6.5355000495910645, -6.5355000495910645, -6.5355000495910645, -6.5355000495910645, -6.535600185394287, -6.535600185394287, -6.535600185394287, -6.535600185394287, -6.535699844360352, -6.535799980163574, -6.535799980163574, -6.535999774932861, -6.535999774932861, -6.535999774932861, -6.535999774932861, -6.535900115966797, -5.6519999504089355, -4.969099998474121, -4.64109992980957, -5.321599960327148, -5.351900100708008, -5.4730000495910645, -5.651899814605713, -5.651899814605713, -5.321599960327148, -4.96999979019165, -5.086999893188477, -5.672100067138672, -5.472599983215332, -5.885700225830078, -4.620999813079834, -6.152200222015381, -5.073599815368652, -4.875, -5.901100158691406, -5.473400115966797, -4.741199970245361, -4.710299968719482, -4.875699996948242, -4.992099761962891, -5.4730000495910645, -5.116300106048584, -5.324699878692627, -4.8180999755859375, -4.996200084686279, -5.185200214385986, -5.081399917602539, -5.032400131225586, -5.365900039672852, -5.161799907684326, -5.109000205993652, -5.35699987411499, -5.321700096130371, -5.3653998374938965, -5.390900135040283]}, \"token.table\": {\"Topic\": [2, 9, 8, 2, 3, 7, 8, 9, 5, 5, 3, 2, 3, 8, 3, 9, 5, 8, 9, 2, 3, 5, 7, 8, 3, 8, 2, 3, 5, 9, 2, 3, 7, 8, 9, 2, 3, 7, 2, 2, 3, 7, 9, 2, 3, 7, 8, 9, 2, 3, 7, 2, 9, 8, 7, 5, 3, 5, 2, 3, 5, 2, 3, 3, 7, 8, 2, 3, 7, 9, 2, 2, 5, 8, 2, 3, 7, 8, 5, 2, 3, 7, 9, 3, 7, 2, 2, 2, 8, 3, 7, 8, 2, 3, 7, 2, 7, 9, 2, 2, 2, 3, 7, 8, 9, 2, 3, 9, 5, 7, 3, 5, 9, 7, 8, 5, 9, 2, 5, 8, 8, 9, 5, 2, 3, 5, 7, 8, 2, 3, 7, 8, 9, 5, 3, 7, 8, 9, 3, 2, 3, 5, 8, 9, 3, 8, 7, 9, 7, 3, 8, 5, 5, 5, 3, 5, 8, 9, 3, 5, 8, 9, 7, 2, 8, 5, 5, 7, 5, 2, 5, 3, 5, 8, 9, 2, 3, 7, 8, 9, 9, 2, 3, 5, 8, 9, 8, 9, 5, 5, 8, 7, 9, 8, 2, 2, 9, 9, 5, 8, 2, 3, 5, 8, 9, 8, 2, 3, 5, 7, 8, 9, 2, 8, 2, 3, 9, 9, 3, 3, 7, 8, 2, 3, 9, 5, 9, 8, 5, 7, 3, 5, 8, 9, 9, 3, 5, 9, 7, 8, 7, 9, 2, 3, 8, 9, 2, 3, 5, 8, 9, 3, 3, 5, 2, 3, 7, 9, 2, 3, 7, 8, 9, 8, 2, 3, 5, 7, 8, 9, 3, 2, 3, 7, 8, 9, 2, 3, 2, 3, 5, 7, 8, 9, 7, 2, 3, 7, 2, 3, 7, 8, 9, 8, 2, 3, 5, 2, 3, 5, 2, 3, 7, 9, 9, 5, 2, 3, 7, 8, 9, 2, 3, 7, 9, 3, 7, 5, 5, 7, 8, 5, 3, 2, 3, 7, 8, 9, 3, 7, 8, 2, 7, 7, 8, 8, 2, 3, 7, 8, 2, 7, 8, 9, 9, 8, 2, 7, 3, 7, 9, 3, 5, 8, 9, 7, 3, 5, 9, 9, 3, 5, 8, 2, 3, 7, 8, 9, 3, 3, 8, 2, 3, 5, 7, 8, 9, 5, 9, 2, 3, 7, 3, 5, 8, 3, 5, 7, 9, 2, 3, 5, 7, 8, 9, 2, 3, 7, 8, 9, 2, 3, 7, 8, 9, 2, 3, 7, 8, 9, 3, 8, 2, 3, 5, 7, 8, 9, 2, 3, 5, 7, 9, 2, 9, 3, 7, 2, 2, 3, 5, 7, 8, 9, 5, 2, 3, 7, 9, 7, 3, 7, 8, 9, 5, 2, 7, 3, 7, 3, 7, 8, 9, 3, 7, 2, 3, 5, 7, 9, 2, 5, 5, 5, 3, 2, 3, 5, 7, 8, 9, 2, 3, 7, 2, 2, 3, 5, 7, 8, 9, 5, 5, 8, 2, 3, 7, 8, 9, 3, 5, 7, 2, 3, 2, 3, 5, 7, 8, 9, 2, 3, 5, 7, 8, 9, 9, 8, 7, 3, 7, 5, 2, 5, 8, 8, 9, 8, 2, 9, 9, 7, 9, 7, 2, 3, 7, 8, 2, 3, 7, 8, 9, 2, 3, 5, 8, 9, 3, 7, 8, 9, 2, 7, 5, 2, 3, 7, 8, 9, 7, 3, 5, 7, 9, 8, 9, 5, 8, 3, 9, 2, 7, 3, 5, 7, 8, 5, 9, 2, 3, 5, 7, 8, 7, 2, 2, 3, 7, 8, 3, 5, 8, 2, 8, 9, 3, 5, 7, 8, 3, 7, 8, 3, 7, 9, 8, 2, 3, 5, 7, 8, 9, 2, 9, 8, 2, 3, 9, 5, 2, 2, 3, 7, 9, 2, 3, 5, 7, 8, 9, 2, 3, 7, 5, 2, 3, 5, 7, 8, 9, 3, 7, 7, 5, 8, 9, 5, 3, 8, 9, 2, 2, 3, 2, 3, 7, 8, 9, 8, 9, 9, 3, 5, 2, 7, 8, 2, 3, 7, 8, 5, 5, 3, 5, 8, 9, 2, 3, 8, 7, 8, 2, 3, 7, 9, 9, 3, 2, 3, 2, 3, 7, 9, 2, 3, 8, 2, 3, 7, 8, 9, 3, 8, 7, 2, 3, 7, 7, 2, 3, 5, 7, 8, 9, 2, 3, 7, 8, 9, 2, 3, 2, 3, 7, 8, 9, 5, 3, 8, 2, 5, 8, 3, 5, 8, 9, 2, 3, 2, 9, 5, 2, 3, 9, 8, 5, 2, 3, 7, 2, 5, 5, 2, 3, 5, 7, 8, 9, 2, 3, 5, 8, 9, 3, 8, 8, 2, 3, 7, 8, 9, 7, 5, 2, 3, 7, 8, 9, 8, 3, 9, 2, 3, 7, 8, 9, 3, 7, 8, 9, 2, 3, 7, 2, 3, 5, 7, 8, 9, 3, 2, 3, 5, 7, 8, 9, 3, 8, 2, 5, 8, 9], \"Freq\": [0.7733619213104248, 0.9996374845504761, 0.7659298181533813, 0.12962666153907776, 0.3240666687488556, 0.45369333028793335, 0.06481333076953888, 0.06481333076953888, 0.8806737661361694, 0.5756387710571289, 0.9452396631240845, 0.19946537911891937, 0.5319076776504517, 0.26595383882522583, 0.3465617597103119, 0.5198426246643066, 0.5075133442878723, 0.25375667214393616, 0.25375667214393616, 0.07725442200899124, 0.46352654695510864, 0.07725442200899124, 0.07725442200899124, 0.30901768803596497, 0.2631146013736725, 0.526229202747345, 0.7733571529388428, 0.1729561984539032, 0.3459123969078064, 0.5188685655593872, 0.04378650709986687, 0.8319436311721802, 0.08757301419973373, 0.04378650709986687, 0.9117226600646973, 0.02738712541759014, 0.31495192646980286, 0.643597424030304, 0.9744834899902344, 0.21872785687446594, 0.5103650093078613, 0.1458185613155365, 0.07290928065776825, 0.03490221127867699, 0.7154953479766846, 0.17451106011867523, 0.03490221127867699, 0.03490221127867699, 0.09205421060323715, 0.7364336848258972, 0.1841084212064743, 0.7733583450317383, 0.9118261337280273, 0.968130350112915, 0.9475660920143127, 0.880635142326355, 0.9451621174812317, 0.8806183338165283, 0.04144663363695145, 0.9532726407051086, 0.5756211876869202, 0.07869189977645874, 0.9443027973175049, 0.982221782207489, 0.9475623965263367, 0.9627478718757629, 0.07777147740125656, 0.4666288495063782, 0.07777147740125656, 0.388857364654541, 0.7733720541000366, 0.9744715690612793, 0.8806984424591064, 0.7659400701522827, 0.09268497675657272, 0.6951373219490051, 0.16219870746135712, 0.04634248837828636, 0.5756127238273621, 0.27477189898490906, 0.27477189898490906, 0.13738594949245453, 0.13738594949245453, 0.8028206825256348, 0.14596739411354065, 0.7733575701713562, 0.7733495831489563, 0.7081683874130249, 0.35408419370651245, 0.9452016353607178, 0.8056523203849792, 0.1342753767967224, 0.08183648437261581, 0.9002013206481934, 0.016367297619581223, 0.44261375069618225, 0.22130687534809113, 0.22130687534809113, 0.7733607292175293, 0.7733626365661621, 0.08262366056442261, 0.6727926731109619, 0.1416405588388443, 0.035410139709711075, 0.05901689827442169, 0.12417379021644592, 0.12417379021644592, 0.7450427412986755, 0.8806101083755493, 0.947551965713501, 0.16027873754501343, 0.16027873754501343, 0.6411149501800537, 0.7026451230049133, 0.17566128075122833, 0.5756132006645203, 0.9116904735565186, 0.305938184261322, 0.305938184261322, 0.305938184261322, 0.7659382820129395, 0.9116952419281006, 0.8806507587432861, 0.21513091027736664, 0.4302618205547333, 0.21513091027736664, 0.10756545513868332, 0.10756545513868332, 0.09801088273525238, 0.5684630870819092, 0.15681740641593933, 0.13721522688865662, 0.03920435160398483, 0.8806222677230835, 0.27962878346443176, 0.27962878346443176, 0.27962878346443176, 0.06990719586610794, 0.9611637592315674, 0.9745113253593445, 0.1994258463382721, 0.1994258463382721, 0.24928230047225952, 0.3988516926765442, 0.3176780939102173, 0.6353561878204346, 0.8738925457000732, 0.7785500288009644, 0.926766037940979, 0.9218423962593079, 0.962734043598175, 0.8806954026222229, 0.8806576728820801, 0.8806113004684448, 0.09956561028957367, 0.09956561028957367, 0.19913122057914734, 0.5973936319351196, 0.3485817611217499, 0.08714544028043747, 0.17429088056087494, 0.43572717905044556, 0.8738934397697449, 0.7081677913665771, 0.3540838956832886, 0.8806318044662476, 0.5755563378334045, 0.9892576336860657, 0.8806631565093994, 0.9744992256164551, 0.880605161190033, 0.1711500734090805, 0.05705002322793007, 0.28525012731552124, 0.45640018582344055, 0.11803588271141052, 0.4721435308456421, 0.05901794135570526, 0.23607176542282104, 0.11803588271141052, 0.9921684265136719, 0.3350474238395691, 0.16752371191978455, 0.16752371191978455, 0.16752371191978455, 0.16752371191978455, 0.7659329771995544, 0.7785623669624329, 0.8806226849555969, 0.24673116207122803, 0.49346232414245605, 0.8623278737068176, 0.9117278456687927, 0.9627348184585571, 0.9744861721992493, 0.7733706831932068, 0.9923862814903259, 0.9117206931114197, 0.373222291469574, 0.746444582939148, 0.06712573021650314, 0.49225538969039917, 0.04475048929452896, 0.2685029208660126, 0.1342514604330063, 0.765923261642456, 0.127472922205925, 0.5736281275749207, 0.127472922205925, 0.0637364611029625, 0.127472922205925, 0.0637364611029625, 0.45786482095718384, 0.45786482095718384, 0.12389771640300751, 0.12389771640300751, 0.7433863282203674, 0.9118110537528992, 0.9451456665992737, 0.3124498128890991, 0.15622490644454956, 0.4686747193336487, 0.09922317415475845, 0.3968926966190338, 0.49611586332321167, 0.3895203173160553, 0.3895203173160553, 0.7659375667572021, 0.5756235122680664, 0.989250898361206, 0.21453584730625153, 0.21453584730625153, 0.3218037486076355, 0.24135282635688782, 0.7784810662269592, 0.33675485849380493, 0.33675485849380493, 0.33675485849380493, 0.9475638270378113, 0.9627417922019958, 0.8209301829338074, 0.20523254573345184, 0.05768769234418869, 0.6345645785331726, 0.17306306958198547, 0.17306306958198547, 0.12435320019721985, 0.2487064003944397, 0.062176600098609924, 0.062176600098609924, 0.4352361857891083, 0.9451038837432861, 0.30379632115364075, 0.6075926423072815, 0.2400529831647873, 0.32007065415382385, 0.2400529831647873, 0.2400529831647873, 0.10085977613925934, 0.7665343284606934, 0.08068782091140747, 0.0302579328417778, 0.010085977613925934, 0.7659350633621216, 0.08212070167064667, 0.5912690758705139, 0.016424139961600304, 0.16424140334129333, 0.09854484349489212, 0.04927242174744606, 0.9219918251037598, 0.0625590905547142, 0.6985765695571899, 0.20853030681610107, 0.010426515713334084, 0.010426515713334084, 0.24727408587932587, 0.7418222427368164, 0.035053592175245285, 0.5433306694030762, 0.017526796087622643, 0.14021436870098114, 0.08763398230075836, 0.17526796460151672, 0.862328827381134, 0.0785752534866333, 0.8643277883529663, 0.04714515060186386, 0.054063692688941956, 0.6487643122673035, 0.10812738537788391, 0.10812738537788391, 0.16219107806682587, 0.7659376859664917, 0.6658348441123962, 0.3329174220561981, 0.8806672096252441, 0.7733675241470337, 0.9218968749046326, 0.8806051015853882, 0.2023005336523056, 0.6878218054771423, 0.08092021197080612, 0.04046010598540306, 0.911683201789856, 0.5755723714828491, 0.17202071845531464, 0.4423390030860901, 0.24574388563632965, 0.07372316718101501, 0.04914877936244011, 0.07230254262685776, 0.9037817716598511, 0.03615127131342888, 0.9117962718009949, 0.9154083728790283, 0.09154083579778671, 0.8806074857711792, 0.4357311427593231, 0.21786557137966156, 0.21786557137966156, 0.8806627988815308, 0.9736108779907227, 0.32804566621780396, 0.3827199339866638, 0.10934855788946152, 0.10934855788946152, 0.05467427894473076, 0.9954819679260254, 0.8738956451416016, 0.7659310102462769, 0.5421449542045593, 0.27107247710227966, 0.8128829598426819, 0.7659332156181335, 0.7659367322921753, 0.1399097591638565, 0.48968416452407837, 0.1399097591638565, 0.20986463129520416, 0.3780219554901123, 0.18901097774505615, 0.18901097774505615, 0.18901097774505615, 0.9116783738136292, 0.7659411430358887, 0.7733657956123352, 0.8738954663276672, 0.5956113338470459, 0.34034934639930725, 0.042543668299913406, 0.2605767548084259, 0.18612626194953918, 0.335027277469635, 0.18612626194953918, 0.8738956451416016, 0.2775360345840454, 0.1387680172920227, 0.5550720691680908, 0.9116948246955872, 0.9156268835067749, 0.06540191918611526, 0.06540191918611526, 0.3151695728302002, 0.4412373900413513, 0.12606781721115112, 0.06303390860557556, 0.06303390860557556, 0.9785687327384949, 0.9617372155189514, 0.9627393484115601, 0.13734175264835358, 0.6065927743911743, 0.02289029210805893, 0.13734175264835358, 0.02289029210805893, 0.08011602610349655, 0.880660355091095, 0.9922147393226624, 0.165244460105896, 0.7849112153053284, 0.041311115026474, 0.32624638080596924, 0.16312319040298462, 0.48936957120895386, 0.4344046711921692, 0.2896031141281128, 0.1448015570640564, 0.1448015570640564, 0.14195460081100464, 0.42586377263069153, 0.047318197786808014, 0.09463639557361603, 0.047318197786808014, 0.2839092016220093, 0.0852779895067215, 0.6182653903961182, 0.0852779895067215, 0.10659748315811157, 0.10659748315811157, 0.09103730320930481, 0.6918835043907166, 0.1456596851348877, 0.036414921283721924, 0.036414921283721924, 0.10107117891311646, 0.5727366805076599, 0.13476157188415527, 0.13476157188415527, 0.06738078594207764, 0.33016127347946167, 0.6603225469589233, 0.0512700155377388, 0.615240216255188, 0.0512700155377388, 0.0512700155377388, 0.2050800621509552, 0.0512700155377388, 0.048261698335409164, 0.7721871733665466, 0.048261698335409164, 0.09652339667081833, 0.024130849167704582, 0.1594841033220291, 0.7974205017089844, 0.9173447489738464, 0.05396145582199097, 0.7733743190765381, 0.14280150830745697, 0.28560301661491394, 0.04760050028562546, 0.2499026209115982, 0.20230212807655334, 0.05950062721967697, 0.8806347846984863, 0.10851027071475983, 0.10851027071475983, 0.6510616540908813, 0.10851027071475983, 0.9475663900375366, 0.16197632253170013, 0.5553473830223083, 0.0462789461016655, 0.25453421473503113, 0.5756047368049622, 0.7733678221702576, 0.8738951086997986, 0.3147992789745331, 0.6295985579490662, 0.38288068771362305, 0.4375779330730438, 0.10939448326826096, 0.10939448326826096, 0.20021645724773407, 0.8008658289909363, 0.0692734643816948, 0.48491424322128296, 0.20782038569450378, 0.20782038569450378, 0.0692734643816948, 0.9744925498962402, 0.8551029562950134, 0.8806440234184265, 0.8806362748146057, 0.9217661023139954, 0.07109422981739044, 0.26067885756492615, 0.1658865362405777, 0.1658865362405777, 0.14218845963478088, 0.1895846128463745, 0.23061636090278625, 0.6918490529060364, 0.07687211781740189, 0.7733619213104248, 0.26699554920196533, 0.4805919826030731, 0.1067982167005539, 0.05339910835027695, 0.1067982167005539, 0.05339910835027695, 0.8806475400924683, 0.8806517720222473, 0.9627293944358826, 0.04078605771064758, 0.2549128532409668, 0.6627734303474426, 0.02039302885532379, 0.02039302885532379, 0.13598640263080597, 0.13598640263080597, 0.6799319982528687, 0.09081264585256577, 0.9081264138221741, 0.03518335521221161, 0.5981170535087585, 0.14073342084884644, 0.03518335521221161, 0.10555006563663483, 0.10555006563663483, 0.06678203493356705, 0.6010383367538452, 0.022260678932070732, 0.15582475066184998, 0.044521357864141464, 0.11130339652299881, 0.9921443462371826, 0.9627361297607422, 0.8738956451416016, 0.9451677203178406, 0.9892576336860657, 0.8806686997413635, 0.3239554166793823, 0.3239554166793823, 0.3239554166793823, 0.543595552444458, 0.271797776222229, 0.9627302885055542, 0.7733650803565979, 0.9069210290908813, 0.9923868775367737, 0.1798352301120758, 0.7193409204483032, 0.9475687742233276, 0.19807922840118408, 0.19807922840118408, 0.5942376852035522, 0.9627118706703186, 0.038138892501592636, 0.4576667249202728, 0.15255557000637054, 0.07627778500318527, 0.26697224378585815, 0.09677163511514664, 0.2903149127960205, 0.09677163511514664, 0.2903149127960205, 0.2903149127960205, 0.44295480847358704, 0.3937376141548157, 0.04921720176935196, 0.09843440353870392, 0.7733657956123352, 0.8738994598388672, 0.8806281089782715, 0.10869204998016357, 0.05434602499008179, 0.5978062748908997, 0.10869204998016357, 0.16303807497024536, 0.9892593622207642, 0.7251718640327454, 0.11156490445137024, 0.05578245222568512, 0.05578245222568512, 0.12586668133735657, 0.8810667991638184, 0.39855679869651794, 0.39855679869651794, 0.9617339968681335, 0.9116684794425964, 0.6826680898666382, 0.3413340449333191, 0.3848714828491211, 0.09621787071228027, 0.19243574142456055, 0.2886536121368408, 0.880653440952301, 0.9117369651794434, 0.13178355991840363, 0.3953506648540497, 0.26356711983680725, 0.13178355991840363, 0.13178355991840363, 0.8738961815834045, 0.7733752727508545, 0.03726038336753845, 0.84456866979599, 0.08694089204072952, 0.024840254336595535, 0.9217665791511536, 0.8806318044662476, 0.7659342885017395, 0.3525218069553375, 0.705043613910675, 0.911636471748352, 0.43562284111976624, 0.07260380685329437, 0.43562284111976624, 0.07260380685329437, 0.21556934714317322, 0.7904209494590759, 0.765929102897644, 0.9217824935913086, 0.2564195990562439, 0.7692587971687317, 0.701952338218689, 0.030533472076058388, 0.5801360011100769, 0.030533472076058388, 0.18320083618164062, 0.061066944152116776, 0.10686715692281723, 0.6939691305160522, 0.3469845652580261, 0.9627330899238586, 0.15640197694301605, 0.15640197694301605, 0.6256079077720642, 0.8806595206260681, 0.7733631134033203, 0.11127876490354538, 0.4451150596141815, 0.11127876490354538, 0.33383628726005554, 0.05269763618707657, 0.42158108949661255, 0.026348818093538284, 0.10539527237415314, 0.07904645800590515, 0.3161858320236206, 0.30228391289711, 0.60456782579422, 0.8738960027694702, 0.8806675672531128, 0.03683936223387718, 0.2210361659526825, 0.07367872446775436, 0.03683936223387718, 0.29471489787101746, 0.33155426383018494, 0.03813205659389496, 0.9533013701438904, 0.9475622177124023, 0.39853015542030334, 0.39853015542030334, 0.9117251634597778, 0.5755510926246643, 0.23896074295043945, 0.05974018573760986, 0.7168822288513184, 0.773370623588562, 0.974515974521637, 0.9218894839286804, 0.10022170841693878, 0.5679230093955994, 0.16703617572784424, 0.06681446731090546, 0.06681446731090546, 0.28341785073280334, 0.7085446119308472, 0.9117498993873596, 0.3717169165611267, 0.3717169165611267, 0.7733674645423889, 0.338426798582077, 0.676853597164154, 0.2774723768234253, 0.48557668924331665, 0.13873618841171265, 0.06936809420585632, 0.8806492686271667, 0.880612850189209, 0.2894446849822998, 0.21708349883556366, 0.1447223424911499, 0.2894446849822998, 0.6658515334129333, 0.3329257667064667, 0.9627248644828796, 0.8306851983070374, 0.20767129957675934, 0.0704035833477974, 0.49282506108283997, 0.38721969723701477, 0.0704035833477974, 0.9117146134376526, 0.9452621340751648, 0.665869951248169, 0.3329349756240845, 0.04095648601651192, 0.6757820248603821, 0.12286946177482605, 0.14334771037101746, 0.9744763374328613, 0.33015942573547363, 0.6603188514709473, 0.10827198624610901, 0.6857225894927979, 0.1443626433610916, 0.0360906608402729, 0.0360906608402729, 0.33017662167549133, 0.6603532433509827, 0.9892712831497192, 0.07483706623315811, 0.6735336184501648, 0.29934826493263245, 0.8738945126533508, 0.07367556542158127, 0.2947022616863251, 0.14735113084316254, 0.2947022616863251, 0.14735113084316254, 0.14735113084316254, 0.06323003023862839, 0.5901469588279724, 0.2739968001842499, 0.04215335473418236, 0.02107667736709118, 0.10429086536169052, 0.8864723443984985, 0.05986202135682106, 0.4190341532230377, 0.11972404271364212, 0.1496550589799881, 0.23944808542728424, 0.8806496262550354, 0.26311245560646057, 0.5262249112129211, 0.7733684778213501, 0.6429013013839722, 0.3214506506919861, 0.1298905909061432, 0.38967177271842957, 0.2597811818122864, 0.2597811818122864, 0.6658967137336731, 0.33294835686683655, 0.5393285751342773, 0.5393285751342773, 0.8806381821632385, 0.17954343557357788, 0.17954343557357788, 0.5386303067207336, 0.7659332752227783, 0.8806140422821045, 0.045035470277071, 0.4503546953201294, 0.5404256582260132, 0.7733633518218994, 0.8806220293045044, 0.8806552886962891, 0.10038811713457108, 0.5688660144805908, 0.016731353476643562, 0.1338508278131485, 0.033462706953287125, 0.1338508278131485, 0.1067744717001915, 0.3559149205684662, 0.1067744717001915, 0.2491404414176941, 0.213548943400383, 0.3301646113395691, 0.6603292226791382, 0.7659267783164978, 0.030090682208538055, 0.5416322946548462, 0.36108818650245667, 0.030090682208538055, 0.030090682208538055, 0.8738937973976135, 0.8806306719779968, 0.07102811336517334, 0.6037389636039734, 0.03551405668258667, 0.07102811336517334, 0.24859841167926788, 0.7659370303153992, 0.8895139694213867, 0.11118924617767334, 0.025420738384127617, 0.6863599419593811, 0.1525244414806366, 0.0762622207403183, 0.06355185061693192, 0.945115864276886, 0.3384329676628113, 0.6768659353256226, 0.9116387367248535, 0.061143383383750916, 0.7948639988899231, 0.12228676676750183, 0.06374282389879227, 0.2868427038192749, 0.03187141194939613, 0.31871411204338074, 0.15935705602169037, 0.1912284642457962, 0.9715904593467712, 0.051333874464035034, 0.25666937232017517, 0.17966856062412262, 0.17966856062412262, 0.051333874464035034, 0.2823362946510315, 0.719059944152832, 0.28762397170066833, 0.08518680185079575, 0.08518680185079575, 0.1703736037015915, 0.681494414806366], \"Term\": [\"activated\", \"admiral\", \"adopted\", \"afraid\", \"afraid\", \"afraid\", \"afraid\", \"afraid\", \"agent\", \"aggression\", \"ai\", \"alderaan\", \"alderaan\", \"alderaan\", \"alive\", \"alive\", \"ally\", \"ally\", \"ally\", \"always\", \"always\", \"always\", \"always\", \"always\", \"anakin\", \"anakin\", \"analyzed\", \"anger\", \"anger\", \"anger\", \"around\", \"around\", \"around\", \"around\", \"arrive\", \"artoo\", \"artoo\", \"artoo\", \"attacked\", \"away\", \"away\", \"away\", \"away\", \"back\", \"back\", \"back\", \"back\", \"back\", \"bad\", \"bad\", \"bad\", \"bait\", \"base\", \"became\", \"beg\", \"begin\", \"beginning\", \"beings\", \"ben\", \"ben\", \"beware\", \"big\", \"big\", \"biggs\", \"bolt\", \"born\", \"bring\", \"bring\", \"bring\", \"bring\", \"brought\", \"bunker\", \"burden\", \"business\", \"ca\", \"ca\", \"ca\", \"ca\", \"calm\", \"came\", \"came\", \"came\", \"came\", \"care\", \"care\", \"cares\", \"carriers\", \"certainly\", \"certainly\", \"check\", \"chewbacca\", \"chewbacca\", \"chewie\", \"chewie\", \"chewie\", \"code\", \"code\", \"code\", \"collapsing\", \"colony\", \"come\", \"come\", \"come\", \"come\", \"come\", \"commander\", \"commander\", \"commander\", \"commitment\", \"communication\", \"complete\", \"complete\", \"complete\", \"computer\", \"computer\", \"concentrate\", \"concern\", \"confront\", \"confront\", \"confront\", \"consequences\", \"constructed\", \"consume\", \"control\", \"control\", \"control\", \"control\", \"control\", \"could\", \"could\", \"could\", \"could\", \"could\", \"counsel\", \"course\", \"course\", \"course\", \"course\", \"dack\", \"dantooine\", \"dark\", \"dark\", \"dark\", \"dark\", \"darth\", \"darth\", \"deactivated\", \"deal\", \"dear\", \"deck\", \"deep\", \"deepest\", \"defense\", \"depends\", \"destiny\", \"destiny\", \"destiny\", \"destiny\", \"destroy\", \"destroy\", \"destroy\", \"destroy\", \"dialect\", \"diplomatic\", \"diplomatic\", \"domain\", \"dominate\", \"doomed\", \"earned\", \"ease\", \"eight\", \"emperor\", \"emperor\", \"emperor\", \"emperor\", \"empire\", \"empire\", \"empire\", \"empire\", \"empire\", \"endor\", \"energy\", \"energy\", \"energy\", \"energy\", \"energy\", \"eventually\", \"every\", \"everywhere\", \"evil\", \"evil\", \"excuse\", \"expecting\", \"experience\", \"explanation\", \"extends\", \"facility\", \"faith\", \"fate\", \"fate\", \"father\", \"father\", \"father\", \"father\", \"father\", \"feared\", \"feel\", \"feel\", \"feel\", \"feel\", \"feel\", \"feel\", \"fighter\", \"fighter\", \"fighters\", \"fighters\", \"fighters\", \"finds\", \"fine\", \"first\", \"first\", \"first\", \"fleet\", \"fleet\", \"fleet\", \"flow\", \"flow\", \"flowing\", \"flows\", \"fluent\", \"force\", \"force\", \"force\", \"force\", \"foreseen\", \"forever\", \"forever\", \"forever\", \"forms\", \"foster\", \"freezing\", \"freezing\", \"friend\", \"friend\", \"friend\", \"friend\", \"friends\", \"friends\", \"friends\", \"friends\", \"friends\", \"full\", \"future\", \"future\", \"general\", \"general\", \"general\", \"general\", \"get\", \"get\", \"get\", \"get\", \"get\", \"gives\", \"go\", \"go\", \"go\", \"go\", \"go\", \"go\", \"goin\", \"going\", \"going\", \"going\", \"going\", \"going\", \"gon\", \"gon\", \"good\", \"good\", \"good\", \"good\", \"good\", \"good\", \"goodness\", \"got\", \"got\", \"got\", \"great\", \"great\", \"great\", \"great\", \"great\", \"greater\", \"ground\", \"ground\", \"grow\", \"guild\", \"guys\", \"hah\", \"han\", \"han\", \"han\", \"han\", \"hatred\", \"heh\", \"help\", \"help\", \"help\", \"help\", \"help\", \"hey\", \"hey\", \"hey\", \"higher\", \"hit\", \"hit\", \"hm\", \"hmm\", \"hmm\", \"hmm\", \"hmph\", \"home\", \"hope\", \"hope\", \"hope\", \"hope\", \"hope\", \"huh\", \"human\", \"humbled\", \"hurt\", \"hurt\", \"hutt\", \"ideals\", \"impatient\", \"imperial\", \"imperial\", \"imperial\", \"imperial\", \"information\", \"information\", \"information\", \"information\", \"insignificant\", \"instruct\", \"intact\", \"intrude\", \"jabba\", \"jabba\", \"jabba\", \"jedi\", \"jedi\", \"jedi\", \"jedi\", \"job\", \"join\", \"join\", \"join\", \"journey\", \"keep\", \"keep\", \"keep\", \"kenobi\", \"kenobi\", \"kenobi\", \"kenobi\", \"kenobi\", \"kid\", \"kill\", \"knights\", \"know\", \"know\", \"know\", \"know\", \"know\", \"know\", \"knowledge\", \"lack\", \"lando\", \"lando\", \"lando\", \"learn\", \"learn\", \"learn\", \"learned\", \"learned\", \"learned\", \"learned\", \"leave\", \"leave\", \"leave\", \"leave\", \"leave\", \"leave\", \"let\", \"let\", \"let\", \"let\", \"let\", \"like\", \"like\", \"like\", \"like\", \"like\", \"little\", \"little\", \"little\", \"little\", \"little\", \"live\", \"live\", \"long\", \"long\", \"long\", \"long\", \"long\", \"long\", \"look\", \"look\", \"look\", \"look\", \"look\", \"lord\", \"lord\", \"lot\", \"lot\", \"loves\", \"luke\", \"luke\", \"luke\", \"luke\", \"luke\", \"luke\", \"luminous\", \"main\", \"main\", \"main\", \"main\", \"malfunctioning\", \"master\", \"master\", \"master\", \"master\", \"matters\", \"member\", \"merely\", \"message\", \"message\", \"might\", \"might\", \"might\", \"might\", \"million\", \"million\", \"mind\", \"mind\", \"mind\", \"mind\", \"mind\", \"mining\", \"mmm\", \"mmmmmm\", \"motion\", \"moving\", \"must\", \"must\", \"must\", \"must\", \"must\", \"must\", \"na\", \"na\", \"na\", \"natural\", \"need\", \"need\", \"need\", \"need\", \"need\", \"need\", \"night\", \"nine\", \"numbers\", \"oh\", \"oh\", \"oh\", \"oh\", \"oh\", \"ohhh\", \"ohhh\", \"ohhh\", \"okay\", \"okay\", \"old\", \"old\", \"old\", \"old\", \"old\", \"old\", \"one\", \"one\", \"one\", \"one\", \"one\", \"one\", \"operational\", \"organa\", \"ouch\", \"pal\", \"pardon\", \"passive\", \"path\", \"path\", \"path\", \"patience\", \"patience\", \"patient\", \"per\", \"perhaps\", \"pirate\", \"plans\", \"plans\", \"playing\", \"please\", \"please\", \"please\", \"politically\", \"power\", \"power\", \"power\", \"power\", \"power\", \"powerful\", \"powerful\", \"powerful\", \"powerful\", \"powerful\", \"princess\", \"princess\", \"princess\", \"princess\", \"proceed\", \"programming\", \"quicker\", \"quite\", \"quite\", \"quite\", \"quite\", \"quite\", \"rather\", \"ready\", \"ready\", \"ready\", \"ready\", \"rebel\", \"rebel\", \"reckless\", \"reckless\", \"red\", \"refer\", \"regret\", \"regret\", \"remember\", \"remember\", \"remember\", \"remember\", \"require\", \"resist\", \"rest\", \"rest\", \"rest\", \"rest\", \"rest\", \"restraining\", \"rieekan\", \"right\", \"right\", \"right\", \"right\", \"rouge\", \"runs\", \"rushing\", \"safely\", \"safely\", \"sanctuary\", \"say\", \"say\", \"say\", \"say\", \"says\", \"says\", \"scum\", \"season\", \"security\", \"security\", \"seduced\", \"see\", \"see\", \"see\", \"see\", \"see\", \"see\", \"senate\", \"senate\", \"senator\", \"send\", \"send\", \"send\", \"serious\", \"served\", \"shield\", \"shield\", \"shield\", \"shield\", \"ship\", \"ship\", \"ship\", \"ship\", \"ship\", \"ship\", \"ships\", \"ships\", \"shoot\", \"sick\", \"side\", \"side\", \"side\", \"side\", \"side\", \"side\", \"sir\", \"sir\", \"six\", \"size\", \"size\", \"skills\", \"sky\", \"skywalker\", \"skywalker\", \"skywalker\", \"slope\", \"slow\", \"smell\", \"something\", \"something\", \"something\", \"something\", \"something\", \"son\", \"son\", \"spies\", \"start\", \"start\", \"stench\", \"step\", \"step\", \"still\", \"still\", \"still\", \"still\", \"stone\", \"stopped\", \"strong\", \"strong\", \"strong\", \"strong\", \"stuck\", \"stuck\", \"suddenly\", \"suggest\", \"suggest\", \"sure\", \"sure\", \"sure\", \"sure\", \"survive\", \"sweetheart\", \"ta\", \"ta\", \"take\", \"take\", \"take\", \"take\", \"tarkin\", \"tatooine\", \"tatooine\", \"tell\", \"tell\", \"tell\", \"tell\", \"tell\", \"terrible\", \"terrible\", \"terribly\", \"thank\", \"thank\", \"thank\", \"thermal\", \"things\", \"things\", \"things\", \"things\", \"things\", \"things\", \"think\", \"think\", \"think\", \"think\", \"think\", \"threepio\", \"threepio\", \"time\", \"time\", \"time\", \"time\", \"time\", \"today\", \"took\", \"took\", \"tracking\", \"trained\", \"trained\", \"training\", \"training\", \"training\", \"training\", \"transports\", \"transports\", \"trap\", \"trap\", \"tree\", \"troops\", \"troops\", \"troops\", \"truths\", \"twilight\", \"uh\", \"uh\", \"uh\", \"understood\", \"unexpected\", \"unlearn\", \"us\", \"us\", \"us\", \"us\", \"us\", \"us\", \"vader\", \"vader\", \"vader\", \"vader\", \"vader\", \"view\", \"view\", \"voices\", \"wait\", \"wait\", \"wait\", \"wait\", \"wait\", \"wake\", \"walker\", \"want\", \"want\", \"want\", \"want\", \"want\", \"wastes\", \"wedge\", \"wedge\", \"well\", \"well\", \"well\", \"well\", \"well\", \"whole\", \"win\", \"win\", \"witness\", \"wo\", \"wo\", \"wo\", \"would\", \"would\", \"would\", \"would\", \"would\", \"would\", \"yeah\", \"yes\", \"yes\", \"yes\", \"yes\", \"yes\", \"yes\", \"yoda\", \"yoda\", \"young\", \"young\", \"young\", \"young\"]}, \"R\": 30, \"lambda.step\": 0.01, \"plot.opts\": {\"xlab\": \"PC1\", \"ylab\": \"PC2\"}, \"topic.order\": [1, 2, 3, 4, 5, 6, 7, 8, 9]};\n",
       "\n",
       "function LDAvis_load_lib(url, callback){\n",
       "  var s = document.createElement('script');\n",
       "  s.src = url;\n",
       "  s.async = true;\n",
       "  s.onreadystatechange = s.onload = callback;\n",
       "  s.onerror = function(){console.warn(\"failed to load library \" + url);};\n",
       "  document.getElementsByTagName(\"head\")[0].appendChild(s);\n",
       "}\n",
       "\n",
       "if(typeof(LDAvis) !== \"undefined\"){\n",
       "   // already loaded: just create the visualization\n",
       "   !function(LDAvis){\n",
       "       new LDAvis(\"#\" + \"ldavis_el85321123267148564491262607\", ldavis_el85321123267148564491262607_data);\n",
       "   }(LDAvis);\n",
       "}else if(typeof define === \"function\" && define.amd){\n",
       "   // require.js is available: use it to load d3/LDAvis\n",
       "   require.config({paths: {d3: \"https://cdnjs.cloudflare.com/ajax/libs/d3/3.5.5/d3.min\"}});\n",
       "   require([\"d3\"], function(d3){\n",
       "      window.d3 = d3;\n",
       "      LDAvis_load_lib(\"https://cdn.rawgit.com/bmabey/pyLDAvis/files/ldavis.v1.0.0.js\", function(){\n",
       "        new LDAvis(\"#\" + \"ldavis_el85321123267148564491262607\", ldavis_el85321123267148564491262607_data);\n",
       "      });\n",
       "    });\n",
       "}else{\n",
       "    // require.js not available: dynamically load d3 & LDAvis\n",
       "    LDAvis_load_lib(\"https://cdnjs.cloudflare.com/ajax/libs/d3/3.5.5/d3.min.js\", function(){\n",
       "         LDAvis_load_lib(\"https://cdn.rawgit.com/bmabey/pyLDAvis/files/ldavis.v1.0.0.js\", function(){\n",
       "                 new LDAvis(\"#\" + \"ldavis_el85321123267148564491262607\", ldavis_el85321123267148564491262607_data);\n",
       "            })\n",
       "         });\n",
       "}\n",
       "</script>"
      ],
      "text/plain": [
       "<IPython.core.display.HTML object>"
      ]
     },
     "execution_count": 31,
     "metadata": {},
     "output_type": "execute_result"
    }
   ],
   "source": [
    "dictionary = gensim.corpora.Dictionary.load('dictionary.gensim')\n",
    "corpus = pickle.load(open('corpus.pkl', 'rb'))\n",
    "lda = gensim.models.ldamodel.LdaModel.load('model5.gensim')\n",
    "lda_display = pyLDAvis.gensim.prepare(lda, corpus, dictionary, sort_topics=False)\n",
    "pyLDAvis.display(lda_display)\n"
   ]
  },
  {
   "cell_type": "markdown",
   "metadata": {},
   "source": [
    "# What is the meaning of this super cool visualization?\n",
    "There are just 6 bigger bubbles although we have 9 characters and 9 topics. Is it a valid statement to say, that the characters are not very good to differentiate?"
   ]
  }
 ],
 "metadata": {
  "hide_code_all_hidden": false,
  "kernelspec": {
   "display_name": "Python 3",
   "language": "python",
   "name": "python3"
  },
  "language_info": {
   "codemirror_mode": {
    "name": "ipython",
    "version": 3
   },
   "file_extension": ".py",
   "mimetype": "text/x-python",
   "name": "python",
   "nbconvert_exporter": "python",
   "pygments_lexer": "ipython3",
   "version": "3.6.5"
  }
 },
 "nbformat": 4,
 "nbformat_minor": 2
}
